{
 "cells": [
  {
   "cell_type": "markdown",
   "metadata": {
    "collapsed": true
   },
   "source": [
    "#  Final Project Required Coding Activity  \n",
    "Python Absolute Beginner \n",
    "\n",
    "Complete all tutorials, practices and required code in the course prior to attempting this activity.\n",
    "\n",
    "**This program requires the use of:**\n",
    "<ul>\n",
    "<li>functional programming: write and call a function</li>\n",
    "<li>**`while`** loop</li>\n",
    "<li>**`if, elif, else`**</li>\n",
    "<li>**`if,else`** (nested)</li>\n",
    "<li>**casting** of type,  between strings and numbers</li></ul>\n",
    "<br/>The program should **only** use code syntax covered in modules 1 - 4.<br/>\n",
    "<br/>The program must result in print output using the numeric input, similar to that shown in the samples displaying \"Items\" and \"Total\". If must also have a statement after the Total row indicating who made the calculation. This name must be your full name. See the sample output for clarity.\n",
    "\n",
    "\n",
    "## Program: `adding_report()` function  \n",
    "This program calls the adding_report() function which repeatedly takes positive integer input until the user quits and then sums the integers and prints a \"report\".    \n",
    "The **adding_report()** function has 1 string parameter which indicates the type of report:  \n",
    "- \"A\" used as the argument to adding_report() results in printing of all of the input integers and the total  \n",
    "- \"T\" used as the argument results in printing only the total   \n",
    "\n",
    "#### Sample input and output:  \n",
    "call adding_report() with \"A\" as argument (print all the integers entered and the total)  \n",
    "```\n",
    "Input an integer to add to the total or \"Q\" to quit\n",
    "Enter an integer or \"Q\"): 3\n",
    "Enter an integer or \"Q\"): 6\n",
    "Enter an integer or \"Q\"): 24\n",
    "Enter an integer or \"Q\"): 17\n",
    "Enter an integer or \"Q\"): 61\n",
    "Enter an integer or \"Q\"): nine\n",
    "nine is invalid input\n",
    "Enter an integer or \"Q\"): q\n",
    "\n",
    "Items\n",
    "3\n",
    "6\n",
    "24\n",
    "17\n",
    "61\n",
    "\n",
    "Total\n",
    " 111\n",
    " Calculated by: [YOUR FULL NAME GOES HERE]\n",
    "```  \n",
    "\n",
    "call with \"T\"(print only the total)  \n",
    "```\n",
    "Input an integer to add to the total or \"Q\" to quit\n",
    "Enter an integer or \"Q\": 5\n",
    "Enter an integer or \"Q\": 7\n",
    "Enter an integer or \"Q\": Quit\n",
    "\n",
    "Total\n",
    " 12\n",
    " Calculated by: [YOUR FULL NAME GOES HERE]\n",
    "```  \n",
    "\n",
    "\n",
    "### Additional Details\n",
    "  \n",
    "- initialize `total` variable which will sum integer values entered  \n",
    "- initialize `items` variable which will build a string of the integer inputs separated with a *new line character*  \n",
    "- define the `adding_report` function with one parameter `report` that will be a string with default of \"T\"  \n",
    "- inside the function build a forever loop (infinite while loop) and inside the loop complete the following  \n",
    "  - use a variable to gather input (integer or \"Q\")  \n",
    "  - check if the input string is a digit (integer) and if it is...  \n",
    "    - add input iteger to total  \n",
    "    - if report type is \"A\" add the numeric character(s) to the item string seperated by a new line  \n",
    "  - if not a digit, check if the input string is \"Q\" or starts with a \"Q\", **if \"Q\"** then...  \n",
    "    - if the report type is \"A\" print out all the integer items entered and the sum total  \n",
    "    - if report type is \"T\" then print out the sum total only  \n",
    "    - `break` out of while loop to end the function after printing the report (\"A\" or \"T\") \n",
    "  - if not a digit and if not a \"Q\" then print a message that the \"input is invalid\"  \n",
    "\n",
    "- Call the `adding_report` function with \"A\" and then with \"T\" report parameters  \n",
    "- Run and test your code before submitting"
   ]
  },
  {
   "cell_type": "code",
   "execution_count": 5,
   "metadata": {},
   "outputs": [
    {
     "ename": "IndentationError",
     "evalue": "unexpected indent (3830920804.py, line 9)",
     "output_type": "error",
     "traceback": [
      "\u001b[0;36m  Cell \u001b[0;32mIn[5], line 9\u001b[0;36m\u001b[0m\n\u001b[0;31m    if report.lower().startswith(\"a\"):\u001b[0m\n\u001b[0m    ^\u001b[0m\n\u001b[0;31mIndentationError\u001b[0m\u001b[0;31m:\u001b[0m unexpected indent\n"
     ]
    }
   ],
   "source": [
    "#Initialize variables first\n",
    "total = \"\"\n",
    "items = \"\"\n",
    "full_name = \"Dan Oren\"\n",
    "\n",
    "def adding_report(report):\n",
    "    while True:\n",
    "        user_input = input(\"Enter an integer or \\\"Q\\\": \")\n",
    "        if report.lower().startswith(\"a\"):\n",
    "            if user_input.isdigit(): \n",
    "                user_input += total\n",
    "                user_input += items\n",
    "                user_input += \"\\n\"\n",
    "            elif user_input.lower().startswith(\"q\"):\n",
    "                print(\"Items\\n\" + str(items) + str(total))\n",
    "                print(\"\\n\" + \"Calculated by:\",full_name)\n",
    "                break\n",
    "        elif report.lower().startswiths(\"t\"):\n",
    "            if user_input.isidigit():\n",
    "                user_input += total\n",
    "                elif user_input.lower().startswith(\"q\"):\n",
    "                    print(\"Total\\n\" + str(total))\n",
    "                    print(\"\\n\" + \"Calculated by:\",full_name)\n",
    "                    break\n",
    "adding_report(\"A\")"
   ]
  },
  {
   "cell_type": "code",
   "execution_count": 3,
   "metadata": {},
   "outputs": [
    {
     "name": "stdout",
     "output_type": "stream",
     "text": [
      "Enter an integer or \"Q\": 65\n",
      "Enter an integer or \"Q\": 4\n",
      "Enter an integer or \"Q\": 3\n",
      "Enter an integer or \"Q\": 423\n",
      "Enter an integer or \"Q\": quit\n"
     ]
    },
    {
     "ename": "KeyboardInterrupt",
     "evalue": "Interrupted by user",
     "output_type": "error",
     "traceback": [
      "\u001b[0;31m---------------------------------------------------------------------------\u001b[0m",
      "\u001b[0;31mKeyboardInterrupt\u001b[0m                         Traceback (most recent call last)",
      "Cell \u001b[0;32mIn[3], line 25\u001b[0m\n\u001b[1;32m     22\u001b[0m             \u001b[38;5;28;01mif\u001b[39;00m user_input\u001b[38;5;241m.\u001b[39misdigit() \u001b[38;5;241m==\u001b[39m \u001b[38;5;28;01mFalse\u001b[39;00m \u001b[38;5;129;01mor\u001b[39;00m user_input\u001b[38;5;241m.\u001b[39mislower() \u001b[38;5;241m==\u001b[39m \u001b[38;5;124m\"\u001b[39m\u001b[38;5;124mq\u001b[39m\u001b[38;5;124m\"\u001b[39m:\n\u001b[1;32m     23\u001b[0m                 \u001b[38;5;28mprint\u001b[39m(\u001b[38;5;124m\"\u001b[39m\u001b[38;5;124mInput is Invalid\u001b[39m\u001b[38;5;124m\"\u001b[39m)\n\u001b[0;32m---> 25\u001b[0m adding_report(\u001b[38;5;124m\"\u001b[39m\u001b[38;5;124mA\u001b[39m\u001b[38;5;124m\"\u001b[39m)\n",
      "Cell \u001b[0;32mIn[3], line 8\u001b[0m, in \u001b[0;36madding_report\u001b[0;34m(report)\u001b[0m\n\u001b[1;32m      6\u001b[0m \u001b[38;5;28;01mdef\u001b[39;00m \u001b[38;5;21madding_report\u001b[39m(report \u001b[38;5;241m=\u001b[39m \u001b[38;5;124m\"\u001b[39m\u001b[38;5;124mT\u001b[39m\u001b[38;5;124m\"\u001b[39m): \u001b[38;5;66;03m# define function adding_report\u001b[39;00m\n\u001b[1;32m      7\u001b[0m     \u001b[38;5;28;01mwhile\u001b[39;00m \u001b[38;5;28;01mTrue\u001b[39;00m:\n\u001b[0;32m----> 8\u001b[0m         user_input \u001b[38;5;241m=\u001b[39m \u001b[38;5;28minput\u001b[39m(\u001b[38;5;124m\"\u001b[39m\u001b[38;5;124mEnter an integer or \u001b[39m\u001b[38;5;130;01m\\\"\u001b[39;00m\u001b[38;5;124mQ\u001b[39m\u001b[38;5;130;01m\\\"\u001b[39;00m\u001b[38;5;124m: \u001b[39m\u001b[38;5;124m\"\u001b[39m) \n\u001b[1;32m      9\u001b[0m         \u001b[38;5;28;01mif\u001b[39;00m user_input\u001b[38;5;241m.\u001b[39misdigit():\n\u001b[1;32m     10\u001b[0m             user_input \u001b[38;5;241m+\u001b[39m\u001b[38;5;241m=\u001b[39m total\n",
      "File \u001b[0;32m~/anaconda3/lib/python3.11/site-packages/ipykernel/kernelbase.py:1202\u001b[0m, in \u001b[0;36mKernel.raw_input\u001b[0;34m(self, prompt)\u001b[0m\n\u001b[1;32m   1200\u001b[0m     msg \u001b[38;5;241m=\u001b[39m \u001b[38;5;124m\"\u001b[39m\u001b[38;5;124mraw_input was called, but this frontend does not support input requests.\u001b[39m\u001b[38;5;124m\"\u001b[39m\n\u001b[1;32m   1201\u001b[0m     \u001b[38;5;28;01mraise\u001b[39;00m StdinNotImplementedError(msg)\n\u001b[0;32m-> 1202\u001b[0m \u001b[38;5;28;01mreturn\u001b[39;00m \u001b[38;5;28mself\u001b[39m\u001b[38;5;241m.\u001b[39m_input_request(\n\u001b[1;32m   1203\u001b[0m     \u001b[38;5;28mstr\u001b[39m(prompt),\n\u001b[1;32m   1204\u001b[0m     \u001b[38;5;28mself\u001b[39m\u001b[38;5;241m.\u001b[39m_parent_ident[\u001b[38;5;124m\"\u001b[39m\u001b[38;5;124mshell\u001b[39m\u001b[38;5;124m\"\u001b[39m],\n\u001b[1;32m   1205\u001b[0m     \u001b[38;5;28mself\u001b[39m\u001b[38;5;241m.\u001b[39mget_parent(\u001b[38;5;124m\"\u001b[39m\u001b[38;5;124mshell\u001b[39m\u001b[38;5;124m\"\u001b[39m),\n\u001b[1;32m   1206\u001b[0m     password\u001b[38;5;241m=\u001b[39m\u001b[38;5;28;01mFalse\u001b[39;00m,\n\u001b[1;32m   1207\u001b[0m )\n",
      "File \u001b[0;32m~/anaconda3/lib/python3.11/site-packages/ipykernel/kernelbase.py:1245\u001b[0m, in \u001b[0;36mKernel._input_request\u001b[0;34m(self, prompt, ident, parent, password)\u001b[0m\n\u001b[1;32m   1242\u001b[0m \u001b[38;5;28;01mexcept\u001b[39;00m \u001b[38;5;167;01mKeyboardInterrupt\u001b[39;00m:\n\u001b[1;32m   1243\u001b[0m     \u001b[38;5;66;03m# re-raise KeyboardInterrupt, to truncate traceback\u001b[39;00m\n\u001b[1;32m   1244\u001b[0m     msg \u001b[38;5;241m=\u001b[39m \u001b[38;5;124m\"\u001b[39m\u001b[38;5;124mInterrupted by user\u001b[39m\u001b[38;5;124m\"\u001b[39m\n\u001b[0;32m-> 1245\u001b[0m     \u001b[38;5;28;01mraise\u001b[39;00m \u001b[38;5;167;01mKeyboardInterrupt\u001b[39;00m(msg) \u001b[38;5;28;01mfrom\u001b[39;00m \u001b[38;5;28;01mNone\u001b[39;00m\n\u001b[1;32m   1246\u001b[0m \u001b[38;5;28;01mexcept\u001b[39;00m \u001b[38;5;167;01mException\u001b[39;00m:\n\u001b[1;32m   1247\u001b[0m     \u001b[38;5;28mself\u001b[39m\u001b[38;5;241m.\u001b[39mlog\u001b[38;5;241m.\u001b[39mwarning(\u001b[38;5;124m\"\u001b[39m\u001b[38;5;124mInvalid Message:\u001b[39m\u001b[38;5;124m\"\u001b[39m, exc_info\u001b[38;5;241m=\u001b[39m\u001b[38;5;28;01mTrue\u001b[39;00m)\n",
      "\u001b[0;31mKeyboardInterrupt\u001b[0m: Interrupted by user"
     ]
    }
   ],
   "source": [
    "# Initialize variables first \n",
    "total = \"\"\n",
    "items = \"\"\n",
    "full_name = \"Dan Oren\"\n",
    "\n",
    "def adding_report(report = \"T\"): # define function adding_report\n",
    "    while True:\n",
    "        user_input = input(\"Enter an integer or \\\"Q\\\": \") \n",
    "        if user_input.isdigit():\n",
    "            user_input += total\n",
    "        elif report.islower() == \"a\":\n",
    "            item += user_input\n",
    "            item += \"\\n\"\n",
    "        if user_input.lower().startswith(\"q\"):\n",
    "            if report.islower() == \"a\":\n",
    "                print(items,\"\\n\",\"Total:\\n\",total) \n",
    "                break\n",
    "            elif report.islower() == \"q\": \n",
    "                print(\"Total:\\n\", total)\n",
    "                break\n",
    "        else: \n",
    "            if user_input.isdigit() == False or user_input.islower() == \"q\":\n",
    "                print(\"Input is Invalid\")\n",
    "            \n",
    "adding_report(\"A\")\n",
    "\n",
    "            \n",
    "\n",
    "            \n",
    "\n",
    "\n",
    "      \n",
    "\n",
    "\n",
    "    \n",
    "    \n",
    "    "
   ]
  },
  {
   "cell_type": "markdown",
   "metadata": {},
   "source": [
    "Submit this by creating a python file (.py) and submitting it in D2L. Be sure to test that it works."
   ]
  }
 ],
 "metadata": {
  "kernelspec": {
   "display_name": "Python 3 (ipykernel)",
   "language": "python",
   "name": "python3"
  },
  "language_info": {
   "codemirror_mode": {
    "name": "ipython",
    "version": 3
   },
   "file_extension": ".py",
   "mimetype": "text/x-python",
   "name": "python",
   "nbconvert_exporter": "python",
   "pygments_lexer": "ipython3",
   "version": "3.11.5"
  }
 },
 "nbformat": 4,
 "nbformat_minor": 1
}
