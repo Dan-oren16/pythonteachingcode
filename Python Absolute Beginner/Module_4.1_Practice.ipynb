{
 "cells": [
  {
   "cell_type": "markdown",
   "metadata": {},
   "source": [
    "# Module 4 Practice\n",
    "## Nested Conditionals\n",
    "<font size=\"5\" color=\"#00A0B2\"  face=\"verdana\"> <B>Student will be able to</B></font>\n",
    "- create nested conditional logic in code  \n",
    "- print format print using escape sequence (**\\**)"
   ]
  },
  {
   "cell_type": "markdown",
   "metadata": {},
   "source": [
    "# &nbsp;\n",
    "<font size=\"6\" color=\"#B24C00\"  face=\"verdana\"> <B>Tasks</B></font>  "
   ]
  },
  {
   "cell_type": "code",
   "execution_count": 1,
   "metadata": {},
   "outputs": [
    {
     "name": "stdout",
     "output_type": "stream",
     "text": [
      "The new line character is \"\\n\"\n"
     ]
    }
   ],
   "source": [
    "# [ ] print a string that outputs the following exactly: The new line character is \"\\n\"\n",
    "print(\"The new line character is \\\"\\\\n\\\"\")\n"
   ]
  },
  {
   "cell_type": "code",
   "execution_count": 2,
   "metadata": {},
   "outputs": [
    {
     "name": "stdout",
     "output_type": "stream",
     "text": [
      "\"That's how we espace!\"\n"
     ]
    }
   ],
   "source": [
    "# [ ] print output that is exactly (with quotes): \"That's how we escape!\"\n",
    "print(\"\\\"That's how we espace!\\\"\")\n"
   ]
  },
  {
   "cell_type": "code",
   "execution_count": 9,
   "metadata": {},
   "outputs": [
    {
     "name": "stdout",
     "output_type": "stream",
     "text": [
      "1\tone\n",
      "22\ttwo\n",
      "333\three\n"
     ]
    }
   ],
   "source": [
    "# [ ] with only 1 print statement and using No Space Characters, output the text commented below  \n",
    "\n",
    "# 1       one\n",
    "# 22      two\n",
    "# 333     three\n",
    "\n",
    "print(\"1\\tone\\n22\\ttwo\\n333\\three\")"
   ]
  },
  {
   "cell_type": "markdown",
   "metadata": {},
   "source": [
    "# &nbsp;\n",
    "## Program: quote_me() Function\n",
    "quote_me takes a string argument and returns a string that will display surrounded with **added double quotes** if printed  \n",
    "- check if passed string starts with a double quote (`\"\\\"\"`), then surround string with single quotations \n",
    "- if the passed string starts with single quote, or if doesn't start with a quotation mark, then surround with double quotations  \n",
    "\n",
    "Test the function code passing string input as the argument to quote_me() "
   ]
  },
  {
   "cell_type": "code",
   "execution_count": 24,
   "metadata": {},
   "outputs": [
    {
     "name": "stdout",
     "output_type": "stream",
     "text": [
      "Enter a quote: I love dogs\n",
      "\"I love dogs\"\n"
     ]
    }
   ],
   "source": [
    "# [ ] create and test quote_me()\n",
    "def quote_me(quote):\n",
    "    if quote.startswith(\"\\\"\"):\n",
    "        print((\"\\'\") + quote + (\"\\'\"))\n",
    "    elif quote.startswith(\"\\'\") or quote.startswith(\"\"):\n",
    "        print(('\\\"') + quote + ('\\\"'))\n",
    "\n",
    "quote_me(input(\"Enter a quote: \"))\n",
    "\n"
   ]
  },
  {
   "cell_type": "markdown",
   "metadata": {},
   "source": [
    "# &nbsp;\n",
    "### Program: shirt order \n",
    "First get input for color and size  \n",
    "- White has sizes L, M \n",
    "- Blue has sizes M, S  \n",
    "\n",
    "print available or unavailable, then  \n",
    "print the order confirmation of color and size  \n",
    "\n",
    "*\n",
    "**hint**: set a variable \"available = False\" before nested if statements and  \n",
    "change to True if color and size are avaliable*"
   ]
  },
  {
   "cell_type": "code",
   "execution_count": 49,
   "metadata": {},
   "outputs": [
    {
     "name": "stdout",
     "output_type": "stream",
     "text": [
      "LW = large white shirt\n",
      "MW = medium white shirt\n",
      "MB = medium blue shirt\n",
      "SB = small blue shirt\n",
      "Enter a shirt color and size combination from above: lw\n",
      "\n",
      "This shirt is False\n"
     ]
    }
   ],
   "source": [
    "# [ ] create shirt order using nested if \n",
    "#Initializing the variables\n",
    "lw_shirt = available\n",
    "mw_shirt = unavailable  \n",
    "mb_shirt = unavailable  \n",
    "sb_shirt = available   \n",
    "unavailable = False \n",
    "available = True \n",
    "\n",
    "print(\"LW = large white shirt\\nMW = medium white shirt\\nMB = medium blue shirt\\nSB = small blue shirt\")\n",
    "shirt_ask = input(\"Enter a shirt color and size combination from above: \")\n",
    "print()\n",
    "if shirt_ask.lower() == \"lw\":\n",
    "    print(\"This shirt is\",lw_shirt)\n",
    "elif shirt_ask.lower() == \"mw\":\n",
    "    print(mw_shirt)\n",
    "\n"
   ]
  },
  {
   "cell_type": "markdown",
   "metadata": {},
   "source": [
    "# &nbsp;\n",
    "## Program: str_analysis() Function\n",
    "Create the str_analysis() function that takes a string argument.  In the body of the function:\n",
    "- Check `if` string is digits  \n",
    "  - if digits: convert to `int` and check `if` greater than 99  \n",
    "    - if greater than 99, print a message about a \"big number\"  \n",
    "    - if not greater than 99, print message about \"small number\"    \n",
    "  - if not digits: check if string isalpha\n",
    "    - if isalpha print message about being all alpha\n",
    "    - if not isalpha print a message about being neither all alpha nor all digit  \n",
    "    \n",
    "call the function with a string from user input "
   ]
  },
  {
   "cell_type": "code",
   "execution_count": 59,
   "metadata": {},
   "outputs": [
    {
     "name": "stdout",
     "output_type": "stream",
     "text": [
      "Enter a string: dan\n",
      "This message is all alpha\n"
     ]
    }
   ],
   "source": [
    "# [ ] create and test str_analysis()\n",
    "def str_analysis(string):\n",
    "    if string.isdigit():\n",
    "        if int(string) > 99:\n",
    "            print(\"Big number\")\n",
    "        elif int(string) < 99:\n",
    "            print(\"Small number\")\n",
    "    elif string.isalpha():\n",
    "        print(\"This message is all alpha\")\n",
    "    else: \n",
    "        print(\"This message is not alpha or digit\")\n",
    "\n",
    "str_analysis(input(\"Enter a string: \"))\n",
    "    "
   ]
  },
  {
   "cell_type": "markdown",
   "metadata": {
    "collapsed": true
   },
   "source": [
    "# &nbsp;  \n",
    "### Program: ticket_check() - finds out if a seat is available  \n",
    "Call ticket_check() function with 2 arguments: *section* and *seats* requested and return True or False  \n",
    "- **section** is a string and expects: general, floor\n",
    "- **seats** is an integer and expects: 1 - 10  \n",
    "\n",
    "Check for valid section and seats\n",
    "- if section is *general* (or use startswith \"g\")  \n",
    "  - if seats is 1-10 return True \n",
    "- if section is *floor* (or use starts with \"f\")\n",
    "  - if seats is 1-4 return True  \n",
    "\n",
    "otherwise return False"
   ]
  },
  {
   "cell_type": "code",
   "execution_count": 94,
   "metadata": {},
   "outputs": [
    {
     "data": {
      "text/plain": [
       "True"
      ]
     },
     "execution_count": 94,
     "metadata": {},
     "output_type": "execute_result"
    }
   ],
   "source": [
    "# [ ] create and call ticket_check()\n",
    "#Call ticket_check() function with 2 arguments: section and seats requested and return True or False\n",
    "\n",
    "def ticket_check(section, seats):\n",
    "    if section.lower().startswith(\"g\"):\n",
    "        return True \n",
    "        if seats == 1-10:  \n",
    "                return True \n",
    "        elif section.lower().startswith(\"f\"): \n",
    "            return True \n",
    "        if seats == 1-4:\n",
    "                    return True \n",
    "    else: \n",
    "        return False\n",
    "        print(\"Enter a valid section and/or seat number\")\n",
    "\n",
    "ticket_check(\"general\", 1)"
   ]
  },
  {
   "cell_type": "markdown",
   "metadata": {},
   "source": [
    "# Module 4 Practice 2\n",
    "## `while()` loops & increments\n",
    "<font size=\"5\" color=\"#00A0B2\"  face=\"verdana\"> <B>Student will be able to</B></font>\n",
    "- create forever loops using `while` and `break`\n",
    "- use incrementing variables in a while loop\n",
    "- control while loops using Boolean operators"
   ]
  },
  {
   "cell_type": "code",
   "execution_count": 102,
   "metadata": {},
   "outputs": [
    {
     "name": "stdout",
     "output_type": "stream",
     "text": [
      "Enter a number: 3\n",
      "Please enter another number (or print \"exit\"): 4\n",
      "Please enter another number (or print \"exit\"): 1\n",
      "Please enter another number (or print \"exit\"): 3\n",
      "Please enter another number (or print \"exit\"): 2\n",
      "Please enter another number (or print \"exit\"): 5\n",
      "Please enter another number (or print \"exit\"): 3\n",
      "Please enter another number (or print \"exit\"): exit\n",
      "\n",
      " 3413253\n"
     ]
    }
   ],
   "source": [
    "# [ ] use a \"forever\" while loop to get user input of integers to add to sum, \n",
    "# until a non-digit is entered, then break the loop and print sum\n",
    "ask_num = input(\"Enter a number: \")\n",
    "sum = \" \"\n",
    "\n",
    "while ask_num.isdigit(): \n",
    "    sum += ask_num\n",
    "    ask_num = input(\"Please enter another number (or print \\\"exit\\\"): \")\n",
    "    if ask_num.isalpha():\n",
    "        break\n",
    "print()\n",
    "print(sum)"
   ]
  },
  {
   "cell_type": "code",
   "execution_count": 128,
   "metadata": {},
   "outputs": [
    {
     "name": "stdout",
     "output_type": "stream",
     "text": [
      "Enter a color of the rainbow: purple\n",
      "Incorrect, try again: black\n",
      "Incorrect, try again: white\n",
      "Incorrect, try again one last time: blue\n",
      "At long last you got it!\n"
     ]
    }
   ],
   "source": [
    "# [ ] use a while True loop (forever loop) to give 4 chances for input of a correct color in a rainbow\n",
    "rainbow = \"red, orange, yellow, green, blue, indigo, violet\"\n",
    "count = 0\n",
    "\n",
    "while True:\n",
    "    color = input(\"Enter a color of the rainbow: \")\n",
    "    if color in rainbow:\n",
    "        print(\"Correct! You got it on the first try.\")\n",
    "        break\n",
    "    else: \n",
    "        color2 = input(\"Incorrect, try again: \")\n",
    "        if color2.lower() in rainbow:\n",
    "            print(\"Correct! You got it on the second try.\")\n",
    "            break\n",
    "        else:\n",
    "            color3 = input(\"Incorrect, try again: \")\n",
    "            if color3.lower() in rainbow:\n",
    "                print(\"Correct! You got it on the third try.\")\n",
    "                break\n",
    "            else: \n",
    "                color4 = input(\"Incorrect, try again one last time: \")\n",
    "                if color4.lower() in rainbow:\n",
    "                    print(\"At long last you got it!\")\n",
    "                    break\n",
    "                else:\n",
    "                    print(\"No luck today\")\n",
    "                    break\n",
    "     \n",
    "            \n",
    "   "
   ]
  },
  {
   "cell_type": "code",
   "execution_count": 154,
   "metadata": {},
   "outputs": [
    {
     "name": "stdout",
     "output_type": "stream",
     "text": [
      "Enter a book title: Harry Potter\n",
      "Harry Potter is a good book!\n"
     ]
    }
   ],
   "source": [
    "# [ ] Get input for a book title, keep looping while input is Not in title format (title is every word capitalized)\n",
    "title = \"\"\n",
    "while True:\n",
    "    title = input(\"Enter a book title: \")\n",
    "    if title == title.title():\n",
    "        break\n",
    "    else:\n",
    "        title = input(\"Enter a book title: \")\n",
    "print(title, \"is a good book!\")"
   ]
  },
  {
   "cell_type": "code",
   "execution_count": 163,
   "metadata": {},
   "outputs": [
    {
     "name": "stdout",
     "output_type": "stream",
     "text": [
      "what is 2x2?: 1\n",
      "what is 2x2?: 2\n",
      "what is 2x2?: 4\n",
      "4 is correct!\n"
     ]
    }
   ],
   "source": [
    "# [ ] create a math quiz question and ask for the solution until the input is correct\n",
    "math_question = \"\"\n",
    "answer = \"4\"\n",
    "while True: \n",
    "    math_question = input(\"what is 2x2?: \")\n",
    "    if math_question == answer:\n",
    "        break\n",
    "    else:\n",
    "        math_question = input(\"what is 2x2?: \")\n",
    "print(math_question, \"is correct!\")"
   ]
  },
  {
   "cell_type": "markdown",
   "metadata": {},
   "source": [
    "### Fix the Error"
   ]
  },
  {
   "cell_type": "code",
   "execution_count": 168,
   "metadata": {},
   "outputs": [
    {
     "name": "stdout",
     "output_type": "stream",
     "text": [
      "enter tickets remaining (0 to quit): 6\n",
      "you win!\n",
      "Game ended\n"
     ]
    }
   ],
   "source": [
    "# [ ] review the code, run, fix the error\n",
    "tickets = input(\"enter tickets remaining (0 to quit): \")\n",
    "\n",
    "while int(tickets) > 0:\n",
    "        # if tickets are multiple of 3 then \"winner\"\n",
    "    if int(tickets)/3 == int(tickets)/3:\n",
    "        print(\"you win!\")\n",
    "        break\n",
    "    else:\n",
    "        print(\"sorry, not a winner.\")\n",
    "    tickets = int(input(\"enter tickets remaining (0 to quit): \"))\n",
    "\n",
    "print(\"Game ended\")\n",
    "    \n",
    "    \n",
    "#quiz_item()has 2 parameter strings: question and solution\n",
    "solution1 = \"true\"\n",
    "solution2 = \"false\"\n",
    "\n",
    "def quiz_item(question1, question2):\n",
    "    while True: \n",
    "        if question1.lower() == solution1:\n",
    "            return True \n",
    "        else:\n",
    "            question1 = input(\"true or false, Python is a coding language: \")\n",
    "            if question2.lower() == solution2: \n",
    "                return True \n",
    "                break\n",
    "            else: \n",
    "                question2 = input(\"true or false, Atlanta is the capital of Georgia: \")\n",
    "\n",
    "quiz_item(input(\"true or false, Python is a coding language: \"), input(\"true or false, Atlanta is the capital of Georgia: \")\n"
   ]
  },
  {
   "cell_type": "markdown",
   "metadata": {},
   "source": [
    "### create a function: quiz_item()  that asks a question and tests if input is correct  \n",
    "- quiz_item()has 2 parameter **strings**: question and solution  \n",
    "- shows question, gets answer input  \n",
    "- returns True if `answer == solution` or continues to ask question until correct answer is provided  \n",
    "- use a while loop\n",
    "\n",
    "create 2 or more quiz questions that call quiz_item()  \n",
    "**Hint**: provide multiple choice or T/F answers"
   ]
  },
  {
   "cell_type": "code",
   "execution_count": 177,
   "metadata": {},
   "outputs": [
    {
     "name": "stdout",
     "output_type": "stream",
     "text": [
      "True/False, Atlanta is the capital of Alabama: True\n",
      "Incorrect, try again.\n",
      "True/False, Atlanta is the capital of Alabama: false\n",
      "Correct!\n",
      "True/False, light moves at 186,000 miles/sec: true\n",
      "Correct!\n"
     ]
    }
   ],
   "source": [
    "# Create quiz_item() and 2 or more quiz questions that call quiz_item()\n",
    "#quiz_item()has 2 parameter strings: question and solution\n",
    "\n",
    "def quiz_item(question, solution):\n",
    "    answer = input(question)\n",
    "\n",
    "    while True:\n",
    "        if answer.lower() != solution:\n",
    "            print(\"Incorrect, try again.\")\n",
    "            answer = input(question)\n",
    "        else:\n",
    "            print(\"Correct!\")\n",
    "            break\n",
    "    \n",
    "question1 = \"True/False, Atlanta is the capital of Alabama: \"\n",
    "question1_answer = \"false\"\n",
    "quiz_item(question1, question1_answer)\n",
    "\n",
    "question2 = \"True/False, light moves at 186,000 miles/sec: \"\n",
    "question2_answer = \"true\"\n",
    "quiz_item(question2, question2_answer)"
   ]
  },
  {
   "cell_type": "markdown",
   "metadata": {
    "collapsed": true
   },
   "source": [
    "[Terms of use](http://go.microsoft.com/fwlink/?LinkID=206977) &nbsp; [Privacy & cookies](https://go.microsoft.com/fwlink/?LinkId=521839) &nbsp; © 2017 Microsoft"
   ]
  }
 ],
 "metadata": {
  "anaconda-cloud": {},
  "kernelspec": {
   "display_name": "Python 3 (ipykernel)",
   "language": "python",
   "name": "python3"
  },
  "language_info": {
   "codemirror_mode": {
    "name": "ipython",
    "version": 3
   },
   "file_extension": ".py",
   "mimetype": "text/x-python",
   "name": "python",
   "nbconvert_exporter": "python",
   "pygments_lexer": "ipython3",
   "version": "3.11.5"
  }
 },
 "nbformat": 4,
 "nbformat_minor": 1
}
