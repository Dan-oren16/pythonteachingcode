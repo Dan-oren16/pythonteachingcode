{
 "cells": [
  {
   "cell_type": "markdown",
   "metadata": {},
   "source": [
    "# Python Fundamentals Module 2: Lists (P2M2)\n",
    "## Sequence: Lists \n",
    "- **List Creation**\n",
    "- **List Access**\n",
    "- List Append\n",
    "- List Insert\n",
    "- List Delete\n",
    "\n",
    "----- \n",
    "\n",
    "><font size=\"5\" color=\"#00A0B2\"  face=\"verdana\"> <B>Student will be able to</B></font>  \n",
    "- **Create Lists**\n",
    "- **Access items in a list**\n",
    "- Add Items to the end of a list\n",
    "- Insert items into a list\n",
    "- Delete items from a list"
   ]
  },
  {
   "cell_type": "markdown",
   "metadata": {},
   "source": [
    "# &nbsp;\n",
    "<font size=\"6\" color=\"#00A0B2\"  face=\"verdana\"> <B>Concepts</B></font>\n",
    "## Creating Lists\n",
    "[![view video](extras/green-play-button.svg)]( https://youtu.be/RA1tMeHWjh0)\n",
    "A simple lists contains **comma separated** objects enclosed in **square brackets**   \n",
    "```python\n",
    "empty_list = [ ]\n",
    "sample_list = [1, 1, 2, 3, 3, 3, 3, 4, 5, 5, 5, 5, 5]\n",
    "```\n",
    "\n",
    "List object types are not restricted so a mix of object types can be in single list\n",
    "```python\n",
    "mixed_list = [1, 1, \"one\", \"two\", 2.0, sample_list, \"Hello World\"]\n",
    "```"
   ]
  },
  {
   "cell_type": "markdown",
   "metadata": {},
   "source": [
    "\n",
    "<font size=\"4\" color=\"#00A0B2\"  face=\"verdana\"> <B>Examples</B></font>"
   ]
  },
  {
   "cell_type": "code",
   "execution_count": 1,
   "metadata": {},
   "outputs": [
    {
     "name": "stdout",
     "output_type": "stream",
     "text": [
      "ft_bones:  <class 'list'>\n",
      "['calcaneus', 'talus', 'cuboid', 'navicular', 'lateral cuneiform', 'intermediate cuneiform', 'medial cuneiform']\n"
     ]
    }
   ],
   "source": [
    "# [ ] review and run example\n",
    "# define list of strings\n",
    "ft_bones = [\"calcaneus\", \"talus\", \"cuboid\", \"navicular\", \"lateral cuneiform\", \"intermediate cuneiform\", \"medial cuneiform\"]\n",
    "\n",
    "# display type information\n",
    "print(\"ft_bones: \", type(ft_bones))\n",
    "\n",
    "# print the list\n",
    "print(ft_bones)"
   ]
  },
  {
   "cell_type": "code",
   "execution_count": 2,
   "metadata": {},
   "outputs": [
    {
     "name": "stdout",
     "output_type": "stream",
     "text": [
      "age_survey:  <class 'list'>\n",
      "[12, 14, 12, 29, 12, 14, 12, 12, 13, 12, 14, 13, 13, 46, 13, 12, 12, 13, 13, 12, 12]\n"
     ]
    }
   ],
   "source": [
    "# [ ] review and run example\n",
    "# define list of integers\n",
    "age_survey = [12, 14, 12, 29, 12, 14, 12, 12, 13, 12, 14, 13, 13, 46, 13, 12, 12, 13, 13, 12, 12]\n",
    "\n",
    "# display type information\n",
    "print(\"age_survey: \", type(age_survey))\n",
    "\n",
    "# print the list\n",
    "print(age_survey)"
   ]
  },
  {
   "cell_type": "code",
   "execution_count": 3,
   "metadata": {},
   "outputs": [
    {
     "name": "stdout",
     "output_type": "stream",
     "text": [
      "mixed_list:  <class 'list'>\n",
      "[1, 34, 0.999, 'dog', 'cat', ['calcaneus', 'talus', 'cuboid', 'navicular', 'lateral cuneiform', 'intermediate cuneiform', 'medial cuneiform'], [12, 14, 12, 29, 12, 14, 12, 12, 13, 12, 14, 13, 13, 46, 13, 12, 12, 13, 13, 12, 12]]\n"
     ]
    }
   ],
   "source": [
    "# [ ] review and run example\n",
    "# define list of mixed data type\n",
    "mixed_list = [1, 34, 0.999, \"dog\", \"cat\", ft_bones, age_survey]\n",
    "\n",
    "# display type information\n",
    "print(\"mixed_list: \", type(mixed_list))\n",
    "\n",
    "# print the list\n",
    "print(mixed_list)"
   ]
  },
  {
   "cell_type": "markdown",
   "metadata": {
    "collapsed": true
   },
   "source": [
    "# &nbsp;\n",
    "<font size=\"6\" color=\"#B24C00\"  face=\"verdana\"> <B>Task 1</B></font>\n",
    "\n",
    "## Create Lists"
   ]
  },
  {
   "cell_type": "code",
   "execution_count": 5,
   "metadata": {},
   "outputs": [
    {
     "name": "stdout",
     "output_type": "stream",
     "text": [
      "['Giants', 'Hawks', 'Falcons', 'Owls', 'Eagles']\n"
     ]
    }
   ],
   "source": [
    "# [ ] create team_names list and populate with 3-5 team name strings\n",
    "team_names = [\"Giants\", \"Hawks\", \"Falcons\", \"Owls\", \"Eagles\" ]\n",
    "# [ ] print the list\n",
    "print(team_names)\n"
   ]
  },
  {
   "cell_type": "code",
   "execution_count": 7,
   "metadata": {},
   "outputs": [
    {
     "name": "stdout",
     "output_type": "stream",
     "text": [
      "['String', 'Another String', 45, 7, 'One more string for good measure']\n"
     ]
    }
   ],
   "source": [
    "# [ ] Create a list mix_list with numbers and strings with 4-6 items\n",
    "mix_list = [\"String\", \"Another String\", 45, 7, \"One more string for good measure\"]\n",
    "# [ ] print the list\n",
    "print(mix_list)\n"
   ]
  },
  {
   "cell_type": "markdown",
   "metadata": {},
   "source": [
    "# &nbsp;\n",
    "<font size=\"6\" color=\"#00A0B2\"  face=\"verdana\"> <B>Concepts</B></font>\n",
    "## List Access \n",
    "### Counting like a computer\n",
    "#### To access a list we need to count like a computer, and that means starting with zero (0)\n",
    "Lists give an **index** number to each list item\n",
    "\n",
    "- first element in a list is index 0\n",
    "- second element in a list is index 1\n",
    "\n",
    "To access the first item in a list use the list name, followed by square brackets containing the index number\n",
    "```python\n",
    "age_survey[0]\n",
    "```\n"
   ]
  },
  {
   "cell_type": "markdown",
   "metadata": {},
   "source": [
    "\n",
    "<font size=\"4\" color=\"#00A0B2\"  face=\"verdana\"> <B>Examples</B></font>\n",
    "\n",
    "|run previous examples before running the examples below Why? Because running them puts their results in memory, available to the code below to use to do further calculations and work |\n",
    "|-----------------------------------------------------------|\n"
   ]
  },
  {
   "cell_type": "code",
   "execution_count": 8,
   "metadata": {},
   "outputs": [
    {
     "name": "stdout",
     "output_type": "stream",
     "text": [
      "calcaneus is the 1st bone on the list\n",
      "cuboid is the 3rd bone on the list\n",
      "medial cuneiform is the last bone on the list\n"
     ]
    }
   ],
   "source": [
    "# [ ] review and run example\n",
    "print(ft_bones[0], \"is the 1st bone on the list\")\n",
    "print(ft_bones[2], \"is the 3rd bone on the list\")\n",
    "print(ft_bones[-1], \"is the last bone on the list\")"
   ]
  },
  {
   "cell_type": "code",
   "execution_count": 9,
   "metadata": {},
   "outputs": [
    {
     "name": "stdout",
     "output_type": "stream",
     "text": [
      "talus is connected to the navicular\n"
     ]
    }
   ],
   "source": [
    "# [ ] review and run example\n",
    "print(ft_bones[1], \"is connected to the\",ft_bones[3])"
   ]
  },
  {
   "cell_type": "code",
   "execution_count": 10,
   "metadata": {},
   "outputs": [
    {
     "name": "stdout",
     "output_type": "stream",
     "text": [
      "The first three ages total 38\n"
     ]
    }
   ],
   "source": [
    "# [ ] review and run example\n",
    "three_ages_sum = age_survey[0] + age_survey[1] + age_survey[2]\n",
    "print(\"The first three ages total\", three_ages_sum)"
   ]
  },
  {
   "cell_type": "markdown",
   "metadata": {
    "collapsed": true
   },
   "source": [
    "# &nbsp;\n",
    "<font size=\"6\" color=\"#B24C00\"  face=\"verdana\"> <B>Task 2</B></font>\n"
   ]
  },
  {
   "cell_type": "code",
   "execution_count": 11,
   "metadata": {},
   "outputs": [
    {
     "name": "stdout",
     "output_type": "stream",
     "text": [
      "No Parking on Spinnaker and Sunset Blvd\n"
     ]
    }
   ],
   "source": [
    "# [ ] Create a list, streets, that lists the name of 5 street name strings\n",
    "streets = [\"Spinnaker\", \"Hidden Forest Court\", \"Cutty Sark Way\", \"Frey Road\", \"Sunset Blvd\"]\n",
    "# [ ] print a message that there is \"No Parking\" on index 0 or index 4 streets\n",
    "print(\"No Parking on\", streets[0], \"and\", streets[4])\n"
   ]
  },
  {
   "cell_type": "code",
   "execution_count": 14,
   "metadata": {},
   "outputs": [
    {
     "name": "stdout",
     "output_type": "stream",
     "text": [
      "52\n"
     ]
    }
   ],
   "source": [
    "# [ ] Create a list, num_2_add, made of 5 different numbers between 0 - 25\n",
    "num_2_add = [5, 23, 7, 15, 2]\n",
    "# [ ] print the sum of the numbers\n",
    "print(num_2_add[0] + num_2_add[1] + num_2_add[2] + num_2_add[3] + num_2_add[4])\n"
   ]
  },
  {
   "cell_type": "markdown",
   "metadata": {
    "collapsed": true
   },
   "source": [
    "# &nbsp;\n",
    "<font size=\"6\" color=\"#B24C00\"  face=\"verdana\"> <B>Task 3</B></font>  \n",
    "## Fix the Errors"
   ]
  },
  {
   "cell_type": "code",
   "execution_count": 19,
   "metadata": {},
   "outputs": [
    {
     "name": "stdout",
     "output_type": "stream",
     "text": [
      " Total of checks 3 & 4 = $ 40\n"
     ]
    }
   ],
   "source": [
    "# [ ] Review & Run, but ***Do Not Edit*** this code cell\n",
    "# [ ] Fix the error by only editing and running the block below\n",
    " \n",
    "print(\" Total of checks 3 & 4 = $\", pay_checks[2] + pay_checks[3])\n"
   ]
  },
  {
   "cell_type": "code",
   "execution_count": 17,
   "metadata": {},
   "outputs": [
    {
     "name": "stdout",
     "output_type": "stream",
     "text": [
      "Total of checks 3 & 4 = $40\n"
     ]
    }
   ],
   "source": [
    "# [ ] Fix the error above by creating and running code in this cell\n",
    "pay_checks = [45, 32, 17, 23] \n",
    "print(\"Total of checks 3 & 4 = $\" + str(pay_checks[2] + pay_checks[3])) \n"
   ]
  },
  {
   "cell_type": "markdown",
   "metadata": {},
   "source": [
    "# Module 2 Part 2\n",
    "## Lists \n",
    "- List Creation\n",
    "- List Access\n",
    "- **List Append**\n",
    "- List Insert\n",
    "- List Delete\n",
    "\n",
    "----- \n",
    "\n",
    "><font size=\"5\" color=\"#00A0B2\"  face=\"verdana\"> <B>Student will be able to</B></font>  \n",
    "- Create Lists\n",
    "- Access items in a list\n",
    "- **Add Items to the end of a list**\n",
    "- Insert items into a list\n",
    "- Delete items from a list"
   ]
  },
  {
   "cell_type": "markdown",
   "metadata": {},
   "source": [
    "# &nbsp;\n",
    "<font size=\"6\" color=\"#00A0B2\"  face=\"verdana\"> <B>Concepts</B></font>\n",
    "## Appending to Lists\n",
    "**`.append()`** method adds an item to the end of a list   \n",
    "```python\n",
    "party_list.append(\"Alton\")\n",
    "```"
   ]
  },
  {
   "cell_type": "markdown",
   "metadata": {},
   "source": [
    "\n",
    "<font size=\"4\" color=\"#00A0B2\"  face=\"verdana\"> <B>Examples</B></font>"
   ]
  },
  {
   "cell_type": "code",
   "execution_count": 22,
   "metadata": {},
   "outputs": [
    {
     "name": "stdout",
     "output_type": "stream",
     "text": [
      "sample_list before:  [1, 1, 2]\n",
      "sample_list after:   [1, 1, 2, 3]\n"
     ]
    }
   ],
   "source": [
    "# [ ] review and run example\n",
    "# the list before append\n",
    "sample_list = [1, 1, 2]\n",
    "print(\"sample_list before: \", sample_list)\n",
    "\n",
    "sample_list.append(3)\n",
    "# the list after append\n",
    "print(\"sample_list after:  \", sample_list)"
   ]
  },
  {
   "cell_type": "code",
   "execution_count": 26,
   "metadata": {},
   "outputs": [
    {
     "name": "stdout",
     "output_type": "stream",
     "text": [
      "sample_list start:   [1, 1, 2, 3, 3, 8, 5, 3, 8, 5]\n",
      "sample_list added:   [1, 1, 2, 3, 3, 8, 5, 3, 8, 5, 3]\n",
      "sample_list added:   [1, 1, 2, 3, 3, 8, 5, 3, 8, 5, 3, 8]\n",
      "sample_list added:   [1, 1, 2, 3, 3, 8, 5, 3, 8, 5, 3, 8, 5]\n"
     ]
    }
   ],
   "source": [
    "# [ ] review and run example\n",
    "# append number to sample_list\n",
    "print(\"sample_list start:  \", sample_list)\n",
    "sample_list.append(3)\n",
    "print(\"sample_list added:  \", sample_list)\n",
    "\n",
    "# append again\n",
    "sample_list.append(8)\n",
    "print(\"sample_list added:  \", sample_list)\n",
    "\n",
    "# append again\n",
    "sample_list.append(5)\n",
    "print(\"sample_list added:  \", sample_list)\n",
    "\n",
    "# [ ] run this cell several times in a row \n",
    "# [ ] run cell above, then run this cell again"
   ]
  },
  {
   "cell_type": "code",
   "execution_count": 30,
   "metadata": {},
   "outputs": [
    {
     "name": "stdout",
     "output_type": "stream",
     "text": [
      "mixed_types list:  [1, 'cat', 3]\n",
      "mixed_types list:  [1, 'cat', 3, 'turtle']\n"
     ]
    }
   ],
   "source": [
    "# [ ] review and run example\n",
    "mixed_types = [1, \"cat\"]\n",
    "# append number\n",
    "mixed_types.append(3)\n",
    "print(\"mixed_types list: \", mixed_types)\n",
    "\n",
    "# append string\n",
    "mixed_types.append(\"turtle\")\n",
    "print(\"mixed_types list: \", mixed_types)"
   ]
  },
  {
   "cell_type": "markdown",
   "metadata": {
    "collapsed": true
   },
   "source": [
    "# &nbsp;\n",
    "<font size=\"6\" color=\"#B24C00\"  face=\"verdana\"> <B>Task 4</B></font>\n",
    "\n",
    "## `.append()`"
   ]
  },
  {
   "cell_type": "code",
   "execution_count": 37,
   "metadata": {},
   "outputs": [
    {
     "name": "stdout",
     "output_type": "stream",
     "text": [
      "[0.25, 100, 5]\n",
      "[0.25, 100, 5, 50]\n"
     ]
    }
   ],
   "source": [
    "# Currency Values\n",
    "# [ ] create a list of 3 or more currency denomination values, cur_values\n",
    "# cur_values, contains values of coins and paper bills (.01, .05, etc.)\n",
    "cur_values = [.25, 100, 5]\n",
    "# [ ] print the list\n",
    "print(cur_values)\n",
    "\n",
    "# [ ] append an item to the list and print the list\n",
    "cur_values.append(50)\n",
    "print(cur_values)"
   ]
  },
  {
   "cell_type": "code",
   "execution_count": 38,
   "metadata": {},
   "outputs": [
    {
     "name": "stdout",
     "output_type": "stream",
     "text": [
      "['penny', 'quarter', 'nickel']\n",
      "['penny', 'quarter', 'nickel', 'dime']\n"
     ]
    }
   ],
   "source": [
    "# Currency Names\n",
    "# [ ] create a list of 3 or more currency denomination NAMES, cur_names\n",
    "# cur_names contains the NAMES of coins and paper bills (penny, etc.)\n",
    "cur_names = [\"penny\", \"quarter\", \"nickel\"]\n",
    "# [ ] print the list\n",
    "print(cur_names)\n",
    "# [ ] append an item to the list and print the list\n",
    "cur_names.append(\"dime\")\n",
    "print(cur_names)\n"
   ]
  },
  {
   "cell_type": "markdown",
   "metadata": {
    "collapsed": true
   },
   "source": [
    "# &nbsp;\n",
    "<font size=\"6\" color=\"#B24C00\"  face=\"verdana\"> <B>Task 5</B></font>  \n",
    "## Append items to a list with `input()` "
   ]
  },
  {
   "cell_type": "code",
   "execution_count": 39,
   "metadata": {},
   "outputs": [
    {
     "name": "stdout",
     "output_type": "stream",
     "text": [
      "Add a currency denomination name: dollar coin\n",
      "['penny', 'quarter', 'nickel', 'dime', 'dollar coin']\n"
     ]
    }
   ],
   "source": [
    "# [ ] append additional values to the Currency Names list using input()\n",
    "cur_names.append(input(\"Add a currency denomination name: \"))\n",
    "# [ ] print the appended list\n",
    "print(cur_names)\n"
   ]
  },
  {
   "cell_type": "markdown",
   "metadata": {},
   "source": [
    "# &nbsp;\n",
    "<font size=\"6\" color=\"#B24C00\"  face=\"verdana\"> <B>Task 6</B></font>\n",
    "## `while` loop `.append()`\n",
    "- define an empty list: **`bday_survey`**  \n",
    "- get user input, **`bday`**, asking for the day of the month they were born (1-31) or \"q\" to finish  \n",
    "- using a **`while`** loop  (while user not entering \"quit\")\n",
    "  - append the **`bday`** input to the **`bday_survey`** list  \n",
    "  - get user input, **`bday`**, asking for the day of the month they were born (1-31) or \"q\" to finish    \n",
    "- print bday_survey list  \n"
   ]
  },
  {
   "cell_type": "code",
   "execution_count": 43,
   "metadata": {},
   "outputs": [
    {
     "name": "stdout",
     "output_type": "stream",
     "text": [
      "Enter the day of the month you born in (1-31) or \"q\": 18\n",
      "Enter the day of the month you born in (1-31) or \"q\": 23\n",
      "Enter the day of the month you born in (1-31) or \"q\": 2\n",
      "Enter the day of the month you born in (1-31) or \"q\": 7\n",
      "Enter the day of the month you born in (1-31) or \"q\": 29\n",
      "Enter the day of the month you born in (1-31) or \"q\": q\n",
      "['18', '23', '2', '7', '29']\n"
     ]
    }
   ],
   "source": [
    "# [ ] complete the Birthday Survey task above\n",
    "bday_survey = []\n",
    "bday = input(\"Enter the day of the month you born in (1-31) or \\\"q\\\": \")\n",
    "while bday != \"q\": \n",
    "    bday_survey.append(bday)\n",
    "    bday = input(\"Enter the day of the month you born in (1-31) or \\\"q\\\": \")         \n",
    "print(bday_survey)"
   ]
  },
  {
   "cell_type": "markdown",
   "metadata": {},
   "source": [
    "# &nbsp;\n",
    "<font size=\"6\" color=\"#B24C00\"  face=\"verdana\"> <B>Task 7</B></font>\n",
    "## Fix The Error\n"
   ]
  },
  {
   "cell_type": "code",
   "execution_count": 44,
   "metadata": {},
   "outputs": [
    {
     "name": "stdout",
     "output_type": "stream",
     "text": [
      "an item in the list is:  2\n"
     ]
    }
   ],
   "source": [
    "# [ ] Fix the Error\n",
    "three_numbers = [1, 1, 2]\n",
    "print(\"an item in the list is: \", three_numbers[2])\n",
    "# the list isn't long enough to include a 3rd index as it is only 3 digits long, meaning it would need to have 4 digits\n"
   ]
  },
  {
   "cell_type": "markdown",
   "metadata": {},
   "source": [
    "# Module 2 Part 3\n",
    "## Lists \n",
    "- List Creation\n",
    "- List Access\n",
    "- List Append\n",
    "- **List *modify* and Insert**\n",
    "- List Delete\n",
    "\n",
    "----- \n",
    "\n",
    "><font size=\"5\" color=\"#00A0B2\"  face=\"verdana\"> <B>Student will be able to</B></font>  \n",
    "- Create Lists\n",
    "- Access items in a list\n",
    "- Add Items to the end of a list\n",
    "- **Modify and insert items into a list**\n",
    "- Delete items from a list"
   ]
  },
  {
   "cell_type": "markdown",
   "metadata": {},
   "source": [
    "# &nbsp;\n",
    "<font size=\"6\" color=\"#00A0B2\"  face=\"verdana\"> <B>Concepts</B></font>\n",
    "## Insert a new value for an index\n",
    "### overwrite a specific index in a list\n",
    "```python\n",
    "party_list[2] = \"Tobias\"\n",
    "```\n",
    "- **Overwrites** existing index\n",
    "- **Cannot** use to **Append** a new index to the list\n"
   ]
  },
  {
   "cell_type": "markdown",
   "metadata": {},
   "source": [
    "\n",
    "<font size=\"4\" color=\"#00A0B2\"  face=\"verdana\"> <B>Examples</B></font>"
   ]
  },
  {
   "cell_type": "code",
   "execution_count": 46,
   "metadata": {},
   "outputs": [
    {
     "name": "stdout",
     "output_type": "stream",
     "text": [
      "party_list before:  ['Joana', 'Alton', 'Tobias']\n",
      "party_list after:   ['Joana', 'Colette', 'Tobias']\n"
     ]
    }
   ],
   "source": [
    "# [ ] review and run example\n",
    "# the list before Insert\n",
    "party_list = [\"Joana\", \"Alton\", \"Tobias\"]\n",
    "print(\"party_list before: \", party_list)\n",
    "\n",
    "# the list after Insert\n",
    "party_list[1] = \"Colette\"\n",
    "print(\"party_list after:  \", party_list)"
   ]
  },
  {
   "cell_type": "code",
   "execution_count": 47,
   "metadata": {},
   "outputs": [
    {
     "name": "stdout",
     "output_type": "stream",
     "text": [
      "before: ['Joana', 'Alton', 'Tobias']\n",
      "\n",
      "after: ['Joana', 'Alton Derosa', 'Tobias']\n"
     ]
    }
   ],
   "source": [
    "# [ ] review and run example\n",
    "party_list = [\"Joana\", \"Alton\", \"Tobias\"]\n",
    "print(\"before:\",party_list)\n",
    "\n",
    "# modify index value\n",
    "party_list[1] = party_list[1] + \" Derosa\"\n",
    "print(\"\\nafter:\", party_list)"
   ]
  },
  {
   "cell_type": "markdown",
   "metadata": {},
   "source": [
    "<font size=\"3\" color=\"#00A0B2\"  face=\"verdana\"> <B>Example</B></font>  \n",
    "**IndexError**  "
   ]
  },
  {
   "cell_type": "code",
   "execution_count": 49,
   "metadata": {},
   "outputs": [
    {
     "name": "stdout",
     "output_type": "stream",
     "text": [
      "['Joana', 'Alton Derosa', 'Tobias', 'Alton']\n"
     ]
    }
   ],
   "source": [
    "# IndexError Example\n",
    "# [ ] review and run example which results in an IndexError\n",
    "# if result is NameError run cell above before running this cell\n",
    "\n",
    "# IndexError trying to append to end of list\n",
    "party_list.append(\"Alton\") \n",
    "print(party_list)"
   ]
  },
  {
   "cell_type": "code",
   "execution_count": 51,
   "metadata": {},
   "outputs": [
    {
     "name": "stdout",
     "output_type": "stream",
     "text": [
      "single_digits:  ['zero', 'one', 'two', 'three', 'four', 5, 'six', 'seven', 'eight', 'nine']\n",
      "single_digits[3]:  three <class 'str'> \n",
      "\n",
      "single_digits:  ['zero', 'one', 'two', 3, 'four', 5, 'six', 'seven', 'eight', 'nine']\n",
      "single_digits[3]:  3 <class 'int'>\n"
     ]
    }
   ],
   "source": [
    "# [ ] review and run example changes the data type of an element\n",
    "# replace a string with a number (int)\n",
    "single_digits = [\"zero\", \"one\", \"two\", \"three\", \"four\", 5, \"six\", \"seven\", \"eight\", \"nine\"] \n",
    "print(\"single_digits: \", single_digits)\n",
    "print(\"single_digits[3]: \", single_digits[3], type(single_digits[3]),\"\\n\")\n",
    "\n",
    "# replace string with an int\n",
    "single_digits[3] = 3\n",
    "print(\"single_digits: \", single_digits)\n",
    "print(\"single_digits[3]: \", single_digits[3], type(single_digits[3]))"
   ]
  },
  {
   "cell_type": "markdown",
   "metadata": {
    "collapsed": true
   },
   "source": [
    "# &nbsp;\n",
    "<font size=\"6\" color=\"#B24C00\"  face=\"verdana\"> <B>Task 8</B></font>\n",
    "\n",
    "## replace items in a list\n",
    "- create a list, **`three_num`**, containing 3 single digit integers\n",
    "- print three_num\n",
    "- check if index 0 value is < 5\n",
    "  - if < 5 , replace index 0 with a string: \"small\"\n",
    "  - else, replace index 0 with a string: \"large\"\n",
    "- print three_num"
   ]
  },
  {
   "cell_type": "code",
   "execution_count": 53,
   "metadata": {},
   "outputs": [
    {
     "name": "stdout",
     "output_type": "stream",
     "text": [
      "[1, 2, 3]\n",
      "['small', 2, 3]\n"
     ]
    }
   ],
   "source": [
    "# [ ] complete \"replace items in a list\" task\n",
    "three_num = [1, 2, 3]\n",
    "print(three_num)\n",
    "if three_num[0] < 5: \n",
    "    three_num[0] = \"small\"\n",
    "else: \n",
    "    three_num[0] = \"large\"\n",
    "print(three_num)\n"
   ]
  },
  {
   "cell_type": "markdown",
   "metadata": {},
   "source": [
    "## Function Challenge: create replacement function\n",
    "- Create a function, **str_replace**, that takes 2 arguments: int_list and index \n",
    "  - int_list is a list of single digit integers\n",
    "  - index is the index that will be checked - such as with int_list[index]\n",
    "- Function replicates purpose of task \"replace items in a list\" above and replaces an integer with a string \"small\" or \"large\"\n",
    "- return int_list\n",
    "\n",
    "Test the function!"
   ]
  },
  {
   "cell_type": "code",
   "execution_count": null,
   "metadata": {},
   "outputs": [],
   "source": [
    "# [ ]  create challenge function\n"
   ]
  },
  {
   "cell_type": "markdown",
   "metadata": {
    "collapsed": true
   },
   "source": [
    "# &nbsp;\n",
    "<font size=\"6\" color=\"#B24C00\"  face=\"verdana\"> <B>Task 9</B></font>\n",
    "\n",
    "## modify items in a list\n",
    "- create a list, **`three_words`**, containing 3 different capitalized word stings\n",
    "- print three_words\n",
    "- modify the first item in three_words to uppercase\n",
    "- modify the third item to swapcase\n",
    "- print three_words"
   ]
  },
  {
   "cell_type": "code",
   "execution_count": 55,
   "metadata": {},
   "outputs": [
    {
     "name": "stdout",
     "output_type": "stream",
     "text": [
      "['Word', 'Excel', 'Powerpoint']\n",
      "['WORD', 'Excel', 'pOWERPOINT']\n"
     ]
    }
   ],
   "source": [
    "# [ ] complete coding task described above\n",
    "three_words = [\"Word\", \"Excel\", \"Powerpoint\"]\n",
    "print(three_words)\n",
    "three_words[0] = three_words[0].upper()\n",
    "three_words[2] = three_words[2].swapcase()\n",
    "print(three_words)\n",
    " \n"
   ]
  },
  {
   "cell_type": "markdown",
   "metadata": {},
   "source": [
    "# &nbsp;\n",
    "<font size=\"6\" color=\"#00A0B2\"  face=\"verdana\"> <B>Concepts</B></font>\n",
    "## Insert items into a list\n",
    "### use `.insert()` to define an index to insert an item\n",
    "```python\n",
    "party_list.insert(2,\"Tobias\")\n",
    "```\n",
    "- Inserts, **doesn't overwrite**\n",
    "- **Increases index by 1**, at and above the insertion point\n",
    "- **Can** use to **Append** a new index to the end of the list\n"
   ]
  },
  {
   "cell_type": "markdown",
   "metadata": {},
   "source": [
    "\n",
    "<font size=\"4\" color=\"#00A0B2\"  face=\"verdana\"> <B>Examples</B></font>"
   ]
  },
  {
   "cell_type": "code",
   "execution_count": 56,
   "metadata": {},
   "outputs": [
    {
     "name": "stdout",
     "output_type": "stream",
     "text": [
      "party_list before:  ['Joana', 'Alton', 'Tobias']\n",
      "index 1 is Alton \n",
      "index 2 is Tobias \n",
      "\n",
      "party_list after:   ['Joana', 'Colette', 'Alton', 'Tobias']\n",
      "index 1 is Colette \n",
      "index 2 is Alton \n",
      "index 3 is Tobias\n"
     ]
    }
   ],
   "source": [
    "# [ ] review and run example\n",
    "# the list before Insert\n",
    "party_list = [\"Joana\", \"Alton\", \"Tobias\"]\n",
    "print(\"party_list before: \", party_list)\n",
    "print(\"index 1 is\", party_list[1], \"\\nindex 2 is\", party_list[2], \"\\n\")\n",
    "\n",
    "# the list after Insert\n",
    "party_list.insert(1,\"Colette\")\n",
    "print(\"party_list after:  \", party_list)\n",
    "print(\"index 1 is\", party_list[1], \"\\nindex 2 is\", party_list[2], \"\\nindex 3 is\", party_list[3])"
   ]
  },
  {
   "cell_type": "markdown",
   "metadata": {
    "collapsed": true
   },
   "source": [
    "# &nbsp;\n",
    "<font size=\"6\" color=\"#B24C00\"  face=\"verdana\"> <B>Task 10</B></font>  \n",
    "## `insert()` input into a list "
   ]
  },
  {
   "cell_type": "code",
   "execution_count": 59,
   "metadata": {},
   "outputs": [
    {
     "name": "stdout",
     "output_type": "stream",
     "text": [
      "Enter a name: Dan\n",
      "['Joana', 'Dan', 'Alton', 'Tobias']\n"
     ]
    }
   ],
   "source": [
    "# [ ] insert a name from user input into the party_list in the second position (index 1)\n",
    "party_list = [\"Joana\", \"Alton\", \"Tobias\"]\n",
    "user_input = input(\"Enter a name: \")\n",
    "party_list.insert(1, user_input)\n",
    "# [ ] print the updated list\n",
    "print(party_list)\n"
   ]
  },
  {
   "cell_type": "markdown",
   "metadata": {},
   "source": [
    "# &nbsp;\n",
    "<font size=\"6\" color=\"#B24C00\"  face=\"verdana\"> <B>Task 11</B></font>\n",
    "## Fix The Error\n"
   ]
  },
  {
   "cell_type": "code",
   "execution_count": 64,
   "metadata": {},
   "outputs": [
    {
     "name": "stdout",
     "output_type": "stream",
     "text": [
      "tree_list before = ['Oak']\n",
      "tree_list after  = ['Oak', 'pine']\n"
     ]
    }
   ],
   "source": [
    "# [ ] Fix the Error\n",
    "tree_list = [\"Oak\"]\n",
    "print(\"tree_list before =\", tree_list)\n",
    "tree_list.insert(1, \"pine\")\n",
    "print(\"tree_list after  =\", tree_list)\n",
    "\n"
   ]
  },
  {
   "cell_type": "markdown",
   "metadata": {},
   "source": [
    "# Module 2 Part 4\n",
    "## Lists \n",
    "- List Creation\n",
    "- List Access\n",
    "- List Append\n",
    "- List Insert\n",
    "- **List Delete (`del`, `.pop()` & `.remove()`)**\n",
    "\n",
    "----- \n",
    "\n",
    "><font size=\"5\" color=\"#00A0B2\"  face=\"verdana\"> <B>Student will be able to</B></font>  \n",
    "- Create Lists\n",
    "- Access items in a list\n",
    "- Add Items to the end of a list\n",
    "- Insert items into a list\n",
    "- **Delete items from a list with `del`, `.pop()` & `.remove()`**"
   ]
  },
  {
   "cell_type": "markdown",
   "metadata": {},
   "source": [
    "# &nbsp;\n",
    "<font size=\"6\" color=\"#00A0B2\"  face=\"verdana\"> <B>Concepts</B></font>\n",
    "## Delete a specific List index\n",
    "### `del ` statement  \n",
    "```python\n",
    "del party_list[2]\n",
    "```"
   ]
  },
  {
   "cell_type": "markdown",
   "metadata": {},
   "source": [
    "\n",
    "<font size=\"4\" color=\"#00A0B2\"  face=\"verdana\"> <B>Examples</B></font>"
   ]
  },
  {
   "cell_type": "code",
   "execution_count": 65,
   "metadata": {},
   "outputs": [
    {
     "name": "stdout",
     "output_type": "stream",
     "text": [
      "sample_list before:  [11, 21, 13, 14, 51, 161, 117, 181]\n",
      "sample_list after:   [11, 13, 14, 51, 161, 117, 181]\n"
     ]
    }
   ],
   "source": [
    "# [ ] review and run example\n",
    "# the list before delete\n",
    "sample_list = [11, 21, 13, 14, 51, 161, 117, 181]\n",
    "print(\"sample_list before: \", sample_list)\n",
    "\n",
    "del sample_list[1]\n",
    "# the list after delete\n",
    "print(\"sample_list after:  \", sample_list)"
   ]
  },
  {
   "cell_type": "code",
   "execution_count": 66,
   "metadata": {},
   "outputs": [
    {
     "name": "stdout",
     "output_type": "stream",
     "text": [
      "sample_list before: [11, 13, 14, 51, 161, 117, 181]\n",
      "sample_list after: [13, 14, 51, 161, 117, 181]\n"
     ]
    }
   ],
   "source": [
    "# [ ] review and run example Multiple Times\n",
    "# [ ] consider how to reset the list values?\n",
    "print(\"sample_list before:\", sample_list)\n",
    "del sample_list[0]\n",
    "print(\"sample_list after:\", sample_list)"
   ]
  },
  {
   "cell_type": "code",
   "execution_count": 67,
   "metadata": {},
   "outputs": [
    {
     "name": "stdout",
     "output_type": "stream",
     "text": [
      "mixed_types list:  [1, 'cat', 3]\n",
      "mixed_types list:  [1, 'cat', 3, 'turtle']\n"
     ]
    }
   ],
   "source": [
    "# [ ] review and run example\n",
    "mixed_types = [1, \"cat\"]\n",
    "# append number\n",
    "mixed_types.append(3)\n",
    "print(\"mixed_types list: \", mixed_types)\n",
    "\n",
    "# append string\n",
    "mixed_types.append(\"turtle\")\n",
    "print(\"mixed_types list: \", mixed_types)"
   ]
  },
  {
   "cell_type": "markdown",
   "metadata": {
    "collapsed": true
   },
   "source": [
    "# &nbsp;\n",
    "<font size=\"6\" color=\"#B24C00\"  face=\"verdana\"> <B>Task 12</B></font>\n",
    "\n",
    "## `del` statement"
   ]
  },
  {
   "cell_type": "code",
   "execution_count": 69,
   "metadata": {},
   "outputs": [
    {
     "name": "stdout",
     "output_type": "stream",
     "text": [
      "['calcaneus', 'talus', 'cuboid', 'navicular', 'lateral cuneiform', 'intermediate cuneiform', 'medial cuneiform']\n",
      "['calcaneus', 'talus', 'navicular', 'lateral cuneiform', 'intermediate cuneiform', 'medial cuneiform']\n"
     ]
    }
   ],
   "source": [
    "# [ ] print ft_bones list\n",
    "# [ ] delete \"cuboid\" from ft_bones\n",
    "# [ ] reprint list\n",
    "ft_bones = [\"calcaneus\", \"talus\", \"cuboid\", \"navicular\", \"lateral cuneiform\", \n",
    "            \"intermediate cuneiform\", \"medial cuneiform\"]\n",
    "print(ft_bones)\n",
    "del ft_bones[2]\n",
    "print(ft_bones)\n"
   ]
  },
  {
   "cell_type": "markdown",
   "metadata": {},
   "source": [
    "# &nbsp;\n",
    "<font size=\"6\" color=\"#B24C00\"  face=\"verdana\"> <B>Task 13</B></font>  \n",
    "## multiple `del` statements "
   ]
  },
  {
   "cell_type": "code",
   "execution_count": 75,
   "metadata": {},
   "outputs": [
    {
     "name": "stdout",
     "output_type": "stream",
     "text": [
      "['calcaneus', 'talus', 'cuboid', 'navicular', 'lateral cuneiform', 'intermediate cuneiform', 'medial cuneiform']\n",
      "['calcaneus', 'talus', 'lateral cuneiform', 'intermediate cuneiform', 'medial cuneiform']\n"
     ]
    }
   ],
   "source": [
    "# [ ] print ft_bones list\n",
    "# [ ] delete \"cuboid\" from ft_bones\n",
    "# [ ] delete \"navicular\" from list\n",
    "# [ ] reprint list\n",
    "# [ ] check for deletion of \"cuboid\" and \"navicular\"\n",
    "ft_bones = [\"calcaneus\", \"talus\", \"cuboid\", \"navicular\", \"lateral cuneiform\", \n",
    "            \"intermediate cuneiform\", \"medial cuneiform\"]\n",
    "print(ft_bones)\n",
    "del ft_bones[2] \n",
    "del ft_bones[2]\n",
    "print(ft_bones)\n"
   ]
  },
  {
   "cell_type": "markdown",
   "metadata": {},
   "source": [
    "# &nbsp;\n",
    "<font size=\"6\" color=\"#00A0B2\"  face=\"verdana\"> <B>Concepts</B></font>\n",
    "## .pop() gets and deletes item in list\n",
    "### `.pop()`  method default is last item in a list\n",
    "```python\n",
    "last_item = party_list.pop()\n",
    "first_item = party_list.pop(0)\n",
    "```"
   ]
  },
  {
   "cell_type": "markdown",
   "metadata": {},
   "source": [
    "\n",
    "<font size=\"4\" color=\"#00A0B2\"  face=\"verdana\"> <B>Examples</B></font>"
   ]
  },
  {
   "cell_type": "code",
   "execution_count": 76,
   "metadata": {},
   "outputs": [
    {
     "name": "stdout",
     "output_type": "stream",
     "text": [
      "['Joana', 'Alton', 'Tobias']\n",
      "Hello, Tobias\n",
      "\n",
      " ['Joana', 'Alton']\n",
      "Hello, Alton\n",
      "\n",
      " ['Joana']\n",
      "Hello, Joana\n",
      "\n",
      " []\n"
     ]
    }
   ],
   "source": [
    "# [ ] review and run example\n",
    "# pop() gets the last item by default\n",
    "party_list = [\"Joana\", \"Alton\", \"Tobias\"]\n",
    "print(party_list)\n",
    "print(\"Hello,\", party_list.pop())\n",
    "\n",
    "print(\"\\n\", party_list)\n",
    "print(\"Hello,\", party_list.pop())\n",
    "\n",
    "print(\"\\n\", party_list)\n",
    "print(\"Hello,\", party_list.pop())\n",
    "\n",
    "print(\"\\n\", party_list)"
   ]
  },
  {
   "cell_type": "code",
   "execution_count": 77,
   "metadata": {},
   "outputs": [
    {
     "name": "stdout",
     "output_type": "stream",
     "text": [
      "before: [11, 21, 13, 14, 51, 161, 117, 181]\n",
      "after : [11, 21, 13, 51, 161, 117, 181]\n"
     ]
    }
   ],
   "source": [
    "# [ ] review and run example\n",
    "# can pop specific index like pop(3)\n",
    "number_list = [11, 21, 13, 14, 51, 161, 117, 181]\n",
    "print(\"before:\", number_list)\n",
    "number_list.pop(3)\n",
    "print(\"after :\", number_list)\n"
   ]
  },
  {
   "cell_type": "code",
   "execution_count": 78,
   "metadata": {},
   "outputs": [
    {
     "name": "stdout",
     "output_type": "stream",
     "text": [
      "list before: [11, 21, 13, 14, 51, 161, 117, 181]\n",
      "list after : [11, 21, 13, 14, 51, 161]\n",
      "add the popped values: 181 + 117 = 298\n"
     ]
    }
   ],
   "source": [
    "# [ ] review and run example\n",
    "# set a variable to a poped value\n",
    "number_list = [11, 21, 13, 14, 51, 161, 117, 181]\n",
    "print(\"list before:\", number_list)\n",
    "num_1 = number_list.pop()\n",
    "num_2 = number_list.pop()\n",
    "print(\"list after :\", number_list)\n",
    "print(\"add the popped values:\", num_1, \"+\", num_2, \"=\", num_1 + num_2)"
   ]
  },
  {
   "cell_type": "markdown",
   "metadata": {
    "collapsed": true
   },
   "source": [
    "# &nbsp;\n",
    "<font size=\"6\" color=\"#B24C00\"  face=\"verdana\"> <B>Task 14</B></font>  \n",
    "## `pop()`"
   ]
  },
  {
   "cell_type": "code",
   "execution_count": 80,
   "metadata": {},
   "outputs": [
    {
     "name": "stdout",
     "output_type": "stream",
     "text": [
      "calcaneus\n",
      "medial cuneiform\n",
      "['talus', 'cuboid', 'navicular', 'lateral cuneiform', 'intermediate cuneiform']\n"
     ]
    }
   ],
   "source": [
    "# [ ] pop() and print the first and last items from the ft_bones list\n",
    "ft_bones = [\"calcaneus\", \"talus\", \"cuboid\", \"navicular\", \"lateral cuneiform\", \n",
    "            \"intermediate cuneiform\", \"medial cuneiform\"]\n",
    "print(ft_bones.pop(0) + \"\\n\" + ft_bones.pop(-1))\n",
    "# [ ] print the remaining list\n",
    "print(ft_bones)\n"
   ]
  },
  {
   "cell_type": "markdown",
   "metadata": {},
   "source": [
    "# &nbsp;\n",
    "<font size=\"6\" color=\"#00A0B2\"  face=\"verdana\"> <B>Concepts</B></font>\n",
    "## an empty list is False\n",
    "### in a conditional an empty list will evaluate `False`\n",
    "This allows creating a while loop that runs until a list is empty\n",
    "```python\n",
    "while dog_types: \n",
    "```"
   ]
  },
  {
   "cell_type": "markdown",
   "metadata": {},
   "source": [
    "\n",
    "<font size=\"4\" color=\"#00A0B2\"  face=\"verdana\"> <B>Example</B></font>"
   ]
  },
  {
   "cell_type": "code",
   "execution_count": 81,
   "metadata": {},
   "outputs": [
    {
     "name": "stdout",
     "output_type": "stream",
     "text": [
      "Poodle\n",
      "Pug\n",
      "Lab\n"
     ]
    }
   ],
   "source": [
    "dog_types = [\"Lab\", \"Pug\", \"Poodle\"]\n",
    "\n",
    "while dog_types: \n",
    "    print(dog_types.pop())"
   ]
  },
  {
   "cell_type": "markdown",
   "metadata": {},
   "source": [
    "# &nbsp;\n",
    "<font size=\"6\" color=\"#B24C00\"  face=\"verdana\"> <B>Task 15 pt 1</B></font>\n",
    "# Cash Register Input\n",
    "- create a empty list `purchase_amounts`\n",
    "- populate the list with user input for the price of items\n",
    "- continue adding to list with `while` until \"done\" is entered\n",
    "  - can use `while True:` with `break`\n",
    "- print `purchase_amounts`\n",
    "- continue to pt 2"
   ]
  },
  {
   "cell_type": "code",
   "execution_count": 18,
   "metadata": {},
   "outputs": [
    {
     "name": "stdout",
     "output_type": "stream",
     "text": [
      "Enter the price of items or \"done\": 5\n",
      "Enter the price of items or \"done\": 4\n",
      "Enter the price of items or \"done\": 3\n",
      "Enter the price of items or \"done\": 2\n",
      "Enter the price of items or \"done\": 1\n",
      "Enter the price of items or \"done\": done\n",
      "['5', '4', '3', '2', '1']\n"
     ]
    }
   ],
   "source": [
    "#[ ] complete the Register Input task above\n",
    "purchase_amounts = []\n",
    "while True: \n",
    "    user_input = input(\"Enter the price of items or \\\"done\\\": \")\n",
    "    if user_input.isdigit(): \n",
    "        purchase_amounts.append(user_input)\n",
    "    elif user_input == \"done\": \n",
    "        break \n",
    "    else: \n",
    "        print(\"Invalid Input\")\n",
    "print(purchase_amounts)\n"
   ]
  },
  {
   "cell_type": "markdown",
   "metadata": {},
   "source": [
    "# &nbsp;\n",
    "<font size=\"6\" color=\"#B24C00\"  face=\"verdana\"> <B>Task 15 pt 2</B></font>\n",
    "# Cash Register Total\n",
    "- create a **`subtotal`** variable = 0\n",
    "create a while loop that runs **`while`** purchase_amount (is not empty)\n",
    "- inside the loop \n",
    "  - **`pop()`** the last list value cast as a float type\n",
    "  - add the float value to a **`subtotal`** variable\n",
    "- after exiting the loop print **`subtotal`**  \n",
    "  \n",
    "  *be sure to populate purchase_amounts by running pt 1 above*"
   ]
  },
  {
   "cell_type": "code",
   "execution_count": 19,
   "metadata": {},
   "outputs": [
    {
     "name": "stdout",
     "output_type": "stream",
     "text": [
      "15.0\n"
     ]
    }
   ],
   "source": [
    "# [ ] complete the Register Total task above\n",
    "subtotal = 0\n",
    "while purchase_amounts: \n",
    "    num_1 = float(purchase_amounts.pop())\n",
    "    subtotal += num_1\n",
    "print(subtotal)\n"
   ]
  },
  {
   "cell_type": "markdown",
   "metadata": {},
   "source": [
    "# &nbsp;\n",
    "<font size=\"6\" color=\"#00A0B2\"  face=\"verdana\"> <B>Concepts</B></font>\n",
    "## Delete a specific object from a list with `.remove()`\n",
    "### `.remove(object)` removes the 1st item that matches\n",
    "\n",
    "```python\n",
    "dog_types.remove(\"Pug\")\n",
    "```\n",
    ">**`ValueError`** occurs if the object is not available to be removed  "
   ]
  },
  {
   "cell_type": "markdown",
   "metadata": {},
   "source": [
    "\n",
    "<font size=\"4\" color=\"#00A0B2\"  face=\"verdana\"> <B>Examples</B></font>"
   ]
  },
  {
   "cell_type": "code",
   "execution_count": 20,
   "metadata": {},
   "outputs": [
    {
     "name": "stdout",
     "output_type": "stream",
     "text": [
      "['Lab', 'Poodle']\n"
     ]
    }
   ],
   "source": [
    "# [ ] review and run example\n",
    "dog_types = [\"Lab\", \"Pug\", \"Poodle\"]\n",
    "\n",
    "if \"Pug\" in dog_types:\n",
    "    dog_types.remove(\"Pug\")\n",
    "else:\n",
    "    print(\"no Pug found\")\n",
    "print(dog_types)"
   ]
  },
  {
   "cell_type": "code",
   "execution_count": 21,
   "metadata": {
    "scrolled": true
   },
   "outputs": [
    {
     "name": "stdout",
     "output_type": "stream",
     "text": [
      "['Lab', 'Pug', 'Poodle', 'Poodle', 'Pug', 'Poodle']\n",
      "['Lab', 'Pug', 'Poodle', 'Pug', 'Poodle']\n",
      "['Lab', 'Pug', 'Pug', 'Poodle']\n",
      "['Lab', 'Pug', 'Pug']\n"
     ]
    }
   ],
   "source": [
    "# [ ] review and run example\n",
    "dogs = [\"Lab\", \"Pug\", \"Poodle\", \"Poodle\", \"Pug\", \"Poodle\"]\n",
    "\n",
    "print(dogs)\n",
    "while \"Poodle\" in dogs:\n",
    "    dogs.remove(\"Poodle\")\n",
    "    print(dogs)"
   ]
  },
  {
   "cell_type": "markdown",
   "metadata": {},
   "source": [
    "### ValueError"
   ]
  },
  {
   "cell_type": "code",
   "execution_count": 23,
   "metadata": {},
   "outputs": [
    {
     "name": "stdout",
     "output_type": "stream",
     "text": [
      "['Pug', 'Pug']\n"
     ]
    }
   ],
   "source": [
    "# [ ] review and run example\n",
    "# Change to \"Lab\", etc... to fix error\n",
    "dogs.remove(\"Lab\")\n",
    "print(dogs)"
   ]
  },
  {
   "cell_type": "markdown",
   "metadata": {
    "collapsed": true
   },
   "source": [
    "# &nbsp;\n",
    "<font size=\"6\" color=\"#B24C00\"  face=\"verdana\"> <B>Task 16</B></font>  \n",
    "## `.remove()`"
   ]
  },
  {
   "cell_type": "code",
   "execution_count": 25,
   "metadata": {},
   "outputs": [
    {
     "name": "stdout",
     "output_type": "stream",
     "text": [
      "['Lab', 'Pug', 'Poodle', 'Poodle', 'Pug', 'Poodle']\n",
      "['Lab', 'Pug', 'Poodle', 'Pug', 'Poodle']\n"
     ]
    }
   ],
   "source": [
    "# [ ] remove one \"Poodle\" from the list: dogs , or print \"no Poodle found\"\n",
    "# [ ] print list before and after\n",
    "dogs = [\"Lab\", \"Pug\", \"Poodle\", \"Poodle\", \"Pug\", \"Poodle\"]\n",
    "print(dogs)\n",
    "if \"Poodle\" in dogs: \n",
    "    dogs.remove(\"Poodle\")\n",
    "else: \n",
    "    print(\"No Poodle found\")\n",
    "print(dogs)\n"
   ]
  },
  {
   "cell_type": "markdown",
   "metadata": {},
   "source": [
    "© 2017 Microsoft adapted with permission by Dominic Thomas"
   ]
  }
 ],
 "metadata": {
  "anaconda-cloud": {},
  "kernelspec": {
   "display_name": "Python 3 (ipykernel)",
   "language": "python",
   "name": "python3"
  },
  "language_info": {
   "codemirror_mode": {
    "name": "ipython",
    "version": 3
   },
   "file_extension": ".py",
   "mimetype": "text/x-python",
   "name": "python",
   "nbconvert_exporter": "python",
   "pygments_lexer": "ipython3",
   "version": "3.11.5"
  }
 },
 "nbformat": 4,
 "nbformat_minor": 1
}
