{
 "cells": [
  {
   "cell_type": "markdown",
   "metadata": {
    "collapsed": true
   },
   "source": [
    "# Module 1 Practice 1\n",
    "##  Getting started with Python in Jupyter Notebooks\n",
    "### notebooks, comments, print(), type(), addition, errors and art\n",
    "\n",
    "<font size=\"5\" color=\"#00A0B2\"  face=\"verdana\"> <B>Student will be able to</B></font>\n",
    "- use Python 3 in Jupyter notebooks\n",
    "- write working code using `print()` and `#` comments  \n",
    "- write working code using `type()` and variables\n",
    "- combine strings using string addition (+)\n",
    "- add numbers in code (+)\n",
    "- troubleshoot errors\n",
    "- create character art  \n",
    "\n",
    "# &nbsp;\n",
    ">**note:** the **[ ]** indicates student has a task to complete  \n",
    "  \n",
    ">**reminder:** to run code and save changes: student should upload or clone a copy of notebooks \n",
    "\n",
    "#### notebook use\n",
    "- [ ] insert a **code cell** below   \n",
    "- [ ] enter the following Python code, including the comment: \n",
    "```python \n",
    "# [ ] print 'Hello!' and remember to save notebook!\n",
    "print('Hello!')\n",
    "```\n",
    "Then run the code - the output should be:  \n",
    "`Hello!`"
   ]
  },
  {
   "cell_type": "code",
   "execution_count": 1,
   "metadata": {},
   "outputs": [
    {
     "name": "stdout",
     "output_type": "stream",
     "text": [
      "Hello!\n"
     ]
    }
   ],
   "source": [
    "print('Hello!')"
   ]
  },
  {
   "cell_type": "markdown",
   "metadata": {},
   "source": [
    "#### run the cell below   \n",
    "- [ ] use **Ctrl + Enter**  \n",
    "- [ ] use **Shift + Enter**    "
   ]
  },
  {
   "cell_type": "code",
   "execution_count": 2,
   "metadata": {},
   "outputs": [
    {
     "name": "stdout",
     "output_type": "stream",
     "text": [
      "watch for the cat\n"
     ]
    }
   ],
   "source": [
    "print('watch for the cat')"
   ]
  },
  {
   "cell_type": "markdown",
   "metadata": {},
   "source": [
    "#### Dan's Notebook editing\n",
    "- [ ] Edit **this** notebook Markdown cell replacing the word \"Student's\" above with your name\n",
    "- [ ] Run the cell to display the formatted text\n",
    "- [ ] Run any 'markdown' cells that are in edit mode, so they are easier to read"
   ]
  },
  {
   "cell_type": "code",
   "execution_count": 3,
   "metadata": {},
   "outputs": [
    {
     "name": "stdout",
     "output_type": "stream",
     "text": [
      "Run as a code cell\n"
     ]
    }
   ],
   "source": [
    "#### [ ] convert \\*this\\* cell from markdown to a code cell, then run it  \n",
    "print('Run as a code cell')\n"
   ]
  },
  {
   "cell_type": "markdown",
   "metadata": {},
   "source": [
    "##  # comments\n",
    "create a code comment that identifies this notebook, containing your name and the date"
   ]
  },
  {
   "cell_type": "code",
   "execution_count": null,
   "metadata": {
    "collapsed": true
   },
   "outputs": [],
   "source": [
    "#This notebook is Dan Oren's, edited on 2/5/2024"
   ]
  },
  {
   "cell_type": "markdown",
   "metadata": {},
   "source": [
    "#### use print() to \n",
    "- [ ] print [**your_name**]\n",
    "- [ ] print **is using python!**"
   ]
  },
  {
   "cell_type": "code",
   "execution_count": 6,
   "metadata": {},
   "outputs": [
    {
     "name": "stdout",
     "output_type": "stream",
     "text": [
      "Dan\n",
      "is using Python\n"
     ]
    }
   ],
   "source": [
    "# [ ] print your name\n",
    "print(\"Dan\")\n",
    "# [ ] print \"is using Python\"\n",
    "print(\"is using Python\")\n"
   ]
  },
  {
   "cell_type": "markdown",
   "metadata": {},
   "source": [
    "Output above should be:  \n",
    "`Your Name  \n",
    "is using Python!`  "
   ]
  },
  {
   "cell_type": "markdown",
   "metadata": {},
   "source": [
    "#### use variables in print()\n",
    "- [ ] create a variable **your_name** and assign it a string containing your name\n",
    "- [ ] print **your_name**"
   ]
  },
  {
   "cell_type": "code",
   "execution_count": 7,
   "metadata": {},
   "outputs": [
    {
     "name": "stdout",
     "output_type": "stream",
     "text": [
      "Dan\n"
     ]
    }
   ],
   "source": [
    "# [ ] create a variable your_name and assign it a sting containing your name\n",
    "your_name = \"Dan\"\n",
    "#[ ] print your_name\n",
    "print(your_name)\n"
   ]
  },
  {
   "cell_type": "markdown",
   "metadata": {},
   "source": [
    "#### create more string variables\n",
    "- **[ ]** create variables as directed below\n",
    "- **[ ]** print the variables"
   ]
  },
  {
   "cell_type": "code",
   "execution_count": 27,
   "metadata": {},
   "outputs": [
    {
     "name": "stdout",
     "output_type": "stream",
     "text": [
      "Close your eyes\n",
      " 10.5\n",
      "16\n"
     ]
    }
   ],
   "source": [
    "# [ ] create variables and assign values for: favorite_song, shoe_size, lucky_number\n",
    "favorite_song = \"Close your eyes\"\n",
    "shoe_size = \" 10.5\"\n",
    "lucky_number = \"16\"\n",
    "# [ ] print the value of each variable favorite_song, shoe_size, and lucky_number\n",
    "print(favorite_song)\n",
    "print(shoe_size)\n",
    "print(lucky_number)\n"
   ]
  },
  {
   "cell_type": "markdown",
   "metadata": {},
   "source": [
    "#### use string addition\n",
    "- **[ ]**  print the above string variables (favorite_song, shoe_size, lucky_number) combined with a description by using **string addition**\n",
    ">for example favorite_song displayed as:  \n",
    "`favorite song is happy birthday`"
   ]
  },
  {
   "cell_type": "code",
   "execution_count": 13,
   "metadata": {},
   "outputs": [
    {
     "name": "stdout",
     "output_type": "stream",
     "text": [
      "My favorite song is Close your eyes by the backseat lovers.\n",
      "My shoe size is 10.5\n",
      "My lucky number is 16\n"
     ]
    }
   ],
   "source": [
    "# [ ] print favorite_song with description\n",
    "print(\"My favorite song is\",favorite_song,\"by the backseat lovers.\")\n",
    "\n",
    "# [ ] print shoe_size with description\n",
    "print(\"My shoe size is\",shoe_size)\n",
    "\n",
    "# [ ] print lucky_number with description\n",
    "print(\"My lucky number is\",lucky_number)\n"
   ]
  },
  {
   "cell_type": "markdown",
   "metadata": {},
   "source": [
    "##### more string addition\n",
    "- **[ ]** make a single string (sentence) in a variable called favorite_lucky_shoe using **string addition** with favorite_song, shoe_size, lucky_number variables and other strings as needed \n",
    "- **[ ]** print the value of the favorite_lucky_shoe variable string\n",
    "> sample output:  \n",
    "`For singing happy birthday 8.5 times, you will be fined $25`"
   ]
  },
  {
   "cell_type": "code",
   "execution_count": 28,
   "metadata": {},
   "outputs": [
    {
     "name": "stdout",
     "output_type": "stream",
     "text": [
      "For singing Close your eyes 10.5 times, you will be fined $16\n"
     ]
    }
   ],
   "source": [
    "# assign favorite_lucky_shoe using\n",
    "favorite_lucky_shoe = \"For singing \" + favorite_song + shoe_size + \" times, you will be fined $\" + lucky_number\n",
    "print(favorite_lucky_shoe)"
   ]
  },
  {
   "cell_type": "markdown",
   "metadata": {},
   "source": [
    "### print() art"
   ]
  },
  {
   "cell_type": "markdown",
   "metadata": {},
   "source": [
    "#### use `print()` and the asterisk **\\*** to create the following shapes\n",
    "- [ ] diagonal line  \n",
    "- [ ] rectangle  \n",
    "- [ ] smiley face"
   ]
  },
  {
   "cell_type": "code",
   "execution_count": 44,
   "metadata": {},
   "outputs": [
    {
     "name": "stdout",
     "output_type": "stream",
     "text": [
      "*\n",
      " *\n",
      "  *\n",
      "   *\n",
      "    *\n",
      "\n",
      "******\n",
      "*    *\n",
      "*    *\n",
      "******\n"
     ]
    }
   ],
   "source": [
    "# [ ] print a diagonal using \"*\"\n",
    "print(\"*\")\n",
    "print(\" *\")\n",
    "print(\"  *\")\n",
    "print(\"   *\")\n",
    "print(\"    *\")\n",
    "print()\n",
    "# [ ] rectangle using \"*\"\n",
    "print(\"******\")\n",
    "print(\"*    *\")\n",
    "print(\"*    *\")\n",
    "print(\"******\")\n",
    "\n"
   ]
  },
  {
   "cell_type": "markdown",
   "metadata": {},
   "source": [
    "#### Using `type()`\n",
    "-**[ ]** calulate the *type* using `type()`"
   ]
  },
  {
   "cell_type": "code",
   "execution_count": 48,
   "metadata": {},
   "outputs": [
    {
     "data": {
      "text/plain": [
       "str"
      ]
     },
     "execution_count": 48,
     "metadata": {},
     "output_type": "execute_result"
    }
   ],
   "source": [
    "# [ ] display the type of 'your name' (use single quotes)\n",
    "type('dan')\n",
    "\n",
    "\n"
   ]
  },
  {
   "cell_type": "code",
   "execution_count": 49,
   "metadata": {},
   "outputs": [
    {
     "data": {
      "text/plain": [
       "str"
      ]
     },
     "execution_count": 49,
     "metadata": {},
     "output_type": "execute_result"
    }
   ],
   "source": [
    "# [ ] display the type of \"save your notebook!\" (use double quotes)\n",
    "type(\"save your notebook!\")\n",
    "\n"
   ]
  },
  {
   "cell_type": "code",
   "execution_count": 50,
   "metadata": {},
   "outputs": [
    {
     "data": {
      "text/plain": [
       "str"
      ]
     },
     "execution_count": 50,
     "metadata": {},
     "output_type": "execute_result"
    }
   ],
   "source": [
    "# [ ] display the type of \"25\" (use quotes)\n",
    "type(\"25\")\n",
    "\n"
   ]
  },
  {
   "cell_type": "code",
   "execution_count": 51,
   "metadata": {},
   "outputs": [
    {
     "data": {
      "text/plain": [
       "str"
      ]
     },
     "execution_count": 51,
     "metadata": {},
     "output_type": "execute_result"
    }
   ],
   "source": [
    "# [ ] display the type of \"save your notebook \" + 'your name'\n",
    "type(\"save your notebook\" + 'dan')\n",
    "\n"
   ]
  },
  {
   "cell_type": "code",
   "execution_count": 52,
   "metadata": {},
   "outputs": [
    {
     "data": {
      "text/plain": [
       "int"
      ]
     },
     "execution_count": 52,
     "metadata": {},
     "output_type": "execute_result"
    }
   ],
   "source": [
    "# [ ] display the type of 25 (no quotes)\n",
    "type(25)\n",
    "\n"
   ]
  },
  {
   "cell_type": "code",
   "execution_count": 53,
   "metadata": {},
   "outputs": [
    {
     "data": {
      "text/plain": [
       "int"
      ]
     },
     "execution_count": 53,
     "metadata": {},
     "output_type": "execute_result"
    }
   ],
   "source": [
    "# [ ] display the type of 25 + 10 \n",
    "type(25 + 10)\n",
    "\n"
   ]
  },
  {
   "cell_type": "code",
   "execution_count": 54,
   "metadata": {},
   "outputs": [
    {
     "data": {
      "text/plain": [
       "float"
      ]
     },
     "execution_count": 54,
     "metadata": {},
     "output_type": "execute_result"
    }
   ],
   "source": [
    "# [ ] display the type of 1.55\n",
    "type(1.55)\n",
    "\n"
   ]
  },
  {
   "cell_type": "code",
   "execution_count": 55,
   "metadata": {},
   "outputs": [
    {
     "data": {
      "text/plain": [
       "float"
      ]
     },
     "execution_count": 55,
     "metadata": {},
     "output_type": "execute_result"
    }
   ],
   "source": [
    "# [ ] display the type of 1.55 + 25\n",
    "type(1.55 + 25)\n",
    "\n"
   ]
  },
  {
   "cell_type": "markdown",
   "metadata": {},
   "source": [
    "#### Find the type of variables\n",
    "- **[ ]** run the cell below to make the variables available to be used in other code\n",
    "- **[ ]** display the data type as directed in the cells that follow"
   ]
  },
  {
   "cell_type": "code",
   "execution_count": 57,
   "metadata": {},
   "outputs": [],
   "source": [
    "# assignments ***RUN THIS CELL*** before starting the section\n",
    "\n",
    "student_name = \"Gus\"\n",
    "student_age = 16\n",
    "student_grade = 3.5\n",
    "student_id = \"ABC-000-000\"\n"
   ]
  },
  {
   "cell_type": "code",
   "execution_count": 58,
   "metadata": {},
   "outputs": [
    {
     "data": {
      "text/plain": [
       "str"
      ]
     },
     "execution_count": 58,
     "metadata": {},
     "output_type": "execute_result"
    }
   ],
   "source": [
    "# [ ] display the current type of the variable student_name\n",
    "type(student_name)\n",
    "\n",
    "\n"
   ]
  },
  {
   "cell_type": "code",
   "execution_count": 59,
   "metadata": {},
   "outputs": [
    {
     "data": {
      "text/plain": [
       "int"
      ]
     },
     "execution_count": 59,
     "metadata": {},
     "output_type": "execute_result"
    }
   ],
   "source": [
    "# [ ] display the type of student_age\n",
    "type(student_age)\n",
    "\n"
   ]
  },
  {
   "cell_type": "code",
   "execution_count": 60,
   "metadata": {},
   "outputs": [
    {
     "data": {
      "text/plain": [
       "float"
      ]
     },
     "execution_count": 60,
     "metadata": {},
     "output_type": "execute_result"
    }
   ],
   "source": [
    "# [ ] display the type of student_grade\n",
    "type(student_grade)\n",
    "\n"
   ]
  },
  {
   "cell_type": "code",
   "execution_count": 62,
   "metadata": {},
   "outputs": [
    {
     "data": {
      "text/plain": [
       "float"
      ]
     },
     "execution_count": 62,
     "metadata": {},
     "output_type": "execute_result"
    }
   ],
   "source": [
    "# [ ] display the type of student_age + student_grade\n",
    "type(student_age + student_grade)\n",
    "\n"
   ]
  },
  {
   "cell_type": "code",
   "execution_count": 63,
   "metadata": {},
   "outputs": [
    {
     "data": {
      "text/plain": [
       "str"
      ]
     },
     "execution_count": 63,
     "metadata": {},
     "output_type": "execute_result"
    }
   ],
   "source": [
    "# [ ] display the current type of student_id\n",
    "type(student_id)\n",
    "\n"
   ]
  },
  {
   "cell_type": "code",
   "execution_count": 64,
   "metadata": {},
   "outputs": [
    {
     "name": "stdout",
     "output_type": "stream",
     "text": [
      "200026270\n"
     ]
    }
   ],
   "source": [
    "# assign new value to student_id \n",
    "student_id = \"200026270\"\n",
    "\n",
    "# [ ] display the current of student_id\n",
    "print(student_id)\n",
    "\n"
   ]
  },
  {
   "cell_type": "markdown",
   "metadata": {
    "collapsed": true
   },
   "source": [
    "#### number integer addition\n",
    "\n",
    "- **[ ]** create variables (x, y, z) with integer values"
   ]
  },
  {
   "cell_type": "code",
   "execution_count": 67,
   "metadata": {},
   "outputs": [],
   "source": [
    "# [ ] create integer variables (x, y, z) and assign them 1-3 digit integers (no decimals - no quotes)\n",
    "x = 23\n",
    "y = 56\n",
    "z = 3\n"
   ]
  },
  {
   "cell_type": "markdown",
   "metadata": {},
   "source": [
    "- **[ ]** insert a **code cell** below\n",
    "- **[ ]** create an integer variable named **xyz_sum** equal to the sum of x, y, and z\n",
    "- **[ ]** print the value of **xyz_sum** "
   ]
  },
  {
   "cell_type": "code",
   "execution_count": 69,
   "metadata": {},
   "outputs": [
    {
     "name": "stdout",
     "output_type": "stream",
     "text": [
      "82\n"
     ]
    }
   ],
   "source": [
    "xyz_sum = x + y + z\n",
    "print(xyz_sum)\n"
   ]
  },
  {
   "cell_type": "markdown",
   "metadata": {},
   "source": [
    "### Errors\n",
    "- **[ ]** troubleshoot and fix the errors below"
   ]
  },
  {
   "cell_type": "code",
   "execution_count": 70,
   "metadata": {},
   "outputs": [
    {
     "name": "stdout",
     "output_type": "stream",
     "text": [
      "Hello World!\n"
     ]
    }
   ],
   "source": [
    "# [ ] fix the error \n",
    "\n",
    "print(\"Hello World!\")    \n",
    "\n",
    "\n"
   ]
  },
  {
   "cell_type": "code",
   "execution_count": 72,
   "metadata": {},
   "outputs": [
    {
     "name": "stdout",
     "output_type": "stream",
     "text": [
      "strings have quotes and variables have names\n"
     ]
    }
   ],
   "source": [
    "# [ ] fix the error \n",
    "print(\"strings have quotes and variables have names\")\n",
    "\n"
   ]
  },
  {
   "cell_type": "code",
   "execution_count": 73,
   "metadata": {},
   "outputs": [
    {
     "name": "stdout",
     "output_type": "stream",
     "text": [
      "I have $5\n"
     ]
    }
   ],
   "source": [
    "# [ ] fix the error \n",
    "print( \"I have $\" + \"5\")\n",
    "\n"
   ]
  },
  {
   "cell_type": "code",
   "execution_count": 74,
   "metadata": {},
   "outputs": [
    {
     "name": "stdout",
     "output_type": "stream",
     "text": [
      "always save the notebook\n"
     ]
    }
   ],
   "source": [
    "# [ ] fix the error \n",
    "print(\"always save the notebook\")\n",
    "      \n"
   ]
  },
  {
   "cell_type": "markdown",
   "metadata": {
    "collapsed": true
   },
   "source": [
    "## ASCII art\n",
    "- **[ ]** Display first name or initials as ASCII Art\n",
    "- **[ ]** Challenge: insert an additional code cell to make an ASCII picture"
   ]
  },
  {
   "cell_type": "code",
   "execution_count": null,
   "metadata": {},
   "outputs": [],
   "source": [
    "# [ ] ASCII ART\n",
    "\n",
    "\n"
   ]
  },
  {
   "cell_type": "code",
   "execution_count": null,
   "metadata": {},
   "outputs": [],
   "source": [
    "# [ ] ASCII ART\n",
    "\n"
   ]
  },
  {
   "cell_type": "markdown",
   "metadata": {},
   "source": [
    "# Module 1 Practice 2\n",
    "## Strings: input, testing, formatting\n",
    "<font size=\"5\" color=\"#00A0B2\"  face=\"verdana\"> <B>Student will be able to</B></font>\n",
    "- gather, store and use string `input()`  \n",
    "- format `print()` output  \n",
    "- test string characteristics  \n",
    "- format string output  \n",
    "- search for a string in a string  "
   ]
  },
  {
   "cell_type": "markdown",
   "metadata": {},
   "source": [
    "## input()\n",
    "getting input from users"
   ]
  },
  {
   "cell_type": "code",
   "execution_count": 80,
   "metadata": {
    "scrolled": true
   },
   "outputs": [
    {
     "name": "stdout",
     "output_type": "stream",
     "text": [
      "move the laundry in 1 hour\n",
      "move the laundry in 1 hour\n"
     ]
    }
   ],
   "source": [
    "# [ ] get user input for a variable named remind_me\n",
    "remind_me = input()\n",
    "\n",
    "# [ ] print the value of the variable remind_me\n",
    "print(remind_me)"
   ]
  },
  {
   "cell_type": "code",
   "execution_count": 79,
   "metadata": {},
   "outputs": [
    {
     "name": "stdout",
     "output_type": "stream",
     "text": [
      "remember: Move the laundry in 1 hour\n"
     ]
    }
   ],
   "source": [
    "# use string addition to print \"remember: \" before the remind_me input string\n",
    "print(\"remember: \" + remind_me)\n"
   ]
  },
  {
   "cell_type": "markdown",
   "metadata": {},
   "source": [
    "### Program: Meeting Details\n",
    "#### [ ] get user **input** for meeting subject and time\n",
    "`what is the meeting subject?: plan for graduation`  \n",
    "`what is the meeting time?: 3:00 PM on Monday`  \n",
    "\n",
    "#### [ ] print **output** with descriptive labels  \n",
    "`Meeting Subject: plan for graduation`  \n",
    "`Meeting Time:    3:00 PM on Monday`"
   ]
  },
  {
   "cell_type": "code",
   "execution_count": 82,
   "metadata": {},
   "outputs": [
    {
     "name": "stdout",
     "output_type": "stream",
     "text": [
      "What is the meeting subject?plan for graduation\n",
      "When is the meeting time?3:oo PM on Monday\n",
      "Meeting Subject: plan for graduation\n",
      "Meeting Time: 3:oo PM on Monday\n"
     ]
    }
   ],
   "source": [
    "# [ ] get user input for 2 variables: meeting_subject and meeting_time\n",
    "meeting_subject = input(\"What is the meeting subject?\")\n",
    "meeting_time = input(\"When is the meeting time?\")\n",
    "# [ ] use string addition to print meeting subject and time with labels\n",
    "print(\"Meeting Subject:\",meeting_subject)\n",
    "print(\"Meeting Time:\",meeting_time)\n",
    "\n"
   ]
  },
  {
   "cell_type": "markdown",
   "metadata": {
    "collapsed": true
   },
   "source": [
    "## print() formatting \n",
    "### combining multiple strings separated by commas in the print() function"
   ]
  },
  {
   "cell_type": "code",
   "execution_count": 83,
   "metadata": {},
   "outputs": [
    {
     "name": "stdout",
     "output_type": "stream",
     "text": [
      "Wednesday is in the middle of the week\n"
     ]
    }
   ],
   "source": [
    "# [ ] print the combined strings \"Wednesday is\" and \"in the middle of the week\" \n",
    "print(\"Wednesday is\",\"in the middle of the week\")\n"
   ]
  },
  {
   "cell_type": "code",
   "execution_count": 84,
   "metadata": {},
   "outputs": [
    {
     "name": "stdout",
     "output_type": "stream",
     "text": [
      "Remember to move the laundry in 1 hour\n"
     ]
    }
   ],
   "source": [
    "# [ ] print combined string \"Remember to\" and the string variable remind_me from input above\n",
    "print(\"Remember to\",remind_me)\n"
   ]
  },
  {
   "cell_type": "code",
   "execution_count": 85,
   "metadata": {},
   "outputs": [
    {
     "name": "stdout",
     "output_type": "stream",
     "text": [
      "Don't forget to move the laundry in 1 hour and the meeting at 3:oo PM on Monday while listening to Close your eyes\n"
     ]
    }
   ],
   "source": [
    "# [ ] Combine 3 variables from above with multiple strings\n",
    "print(\"Don't forget to\",remind_me,\"and the meeting at\",meeting_time,\"while listening to\",favorite_song)\n"
   ]
  },
  {
   "cell_type": "markdown",
   "metadata": {
    "collapsed": true
   },
   "source": [
    "### print() quotation marks"
   ]
  },
  {
   "cell_type": "code",
   "execution_count": 86,
   "metadata": {},
   "outputs": [
    {
     "name": "stdout",
     "output_type": "stream",
     "text": [
      "This is an apostrophe ' \n"
     ]
    }
   ],
   "source": [
    "# [ ] print a string sentence that will display an Apostrophe (')\n",
    "print(\"This is an apostrophe ' \")\n",
    "\n"
   ]
  },
  {
   "cell_type": "code",
   "execution_count": 87,
   "metadata": {},
   "outputs": [
    {
     "name": "stdout",
     "output_type": "stream",
     "text": [
      "This is a quote \"\n"
     ]
    }
   ],
   "source": [
    "# [ ] print a string sentence that will display a quote(\") or quotes\n",
    "print('This is a quote \"')\n",
    "\n"
   ]
  },
  {
   "cell_type": "markdown",
   "metadata": {
    "collapsed": true
   },
   "source": [
    "## Boolean string tests"
   ]
  },
  {
   "cell_type": "markdown",
   "metadata": {},
   "source": [
    "### Vehicle tests  \n",
    "#### get user input for a variable named vehicle  \n",
    "print the following tests results  \n",
    "- check True or False if vehicle is All alphabetical characters using .isalpha()  \n",
    "- check True or False if vehicle is only All alphabetical & numeric characters  \n",
    "- check True or False if vehicle is Capitalized (first letter only)  \n",
    "- check True or False if vehicle is All lowercase  \n",
    "- **bonus** print description for each test (e.g.- `\"All Alpha: True\"`)"
   ]
  },
  {
   "cell_type": "code",
   "execution_count": 97,
   "metadata": {},
   "outputs": [
    {
     "name": "stdout",
     "output_type": "stream",
     "text": [
      "What vehicle do you own? Ford F150\n",
      "False\n",
      "False\n",
      "False\n",
      "False\n"
     ]
    }
   ],
   "source": [
    "# [ ] complete vehicle test \n",
    "vehicle = input(\"What vehicle do you own? \")\n",
    "print(vehicle.isalpha())\n",
    "print(vehicle.isalnum())\n",
    "print(vehicle.isupper())\n",
    "print(vehicle.islower())"
   ]
  },
  {
   "cell_type": "code",
   "execution_count": 101,
   "metadata": {},
   "outputs": [
    {
     "data": {
      "text/plain": [
       "False"
      ]
     },
     "execution_count": 101,
     "metadata": {},
     "output_type": "execute_result"
    }
   ],
   "source": [
    "# [ ] print True or False if color starts with \"b\" \n",
    "vehicle.startswith(\"b\")\n"
   ]
  },
  {
   "cell_type": "code",
   "execution_count": null,
   "metadata": {
    "collapsed": true
   },
   "outputs": [],
   "source": []
  },
  {
   "cell_type": "markdown",
   "metadata": {},
   "source": [
    "## Sting formatting"
   ]
  },
  {
   "cell_type": "code",
   "execution_count": 102,
   "metadata": {},
   "outputs": [
    {
     "name": "stdout",
     "output_type": "stream",
     "text": [
      "The time is noon.\n"
     ]
    }
   ],
   "source": [
    "# [ ] print the string variable capital_this Capitalizing only the first letter\n",
    "capitalize_this = \"the TIME is Noon.\"\n",
    "print(capitalize_this.capitalize())\n"
   ]
  },
  {
   "cell_type": "code",
   "execution_count": 103,
   "metadata": {},
   "outputs": [
    {
     "name": "stdout",
     "output_type": "stream",
     "text": [
      "Who WRITES like This?\n"
     ]
    }
   ],
   "source": [
    "# print the string variable swap_this in swapped case\n",
    "swap_this = \"wHO writes LIKE tHIS?\"\n",
    "print(swap_this.swapcase())\n"
   ]
  },
  {
   "cell_type": "code",
   "execution_count": 104,
   "metadata": {},
   "outputs": [
    {
     "name": "stdout",
     "output_type": "stream",
     "text": [
      "can you hear me?\n"
     ]
    }
   ],
   "source": [
    "# print the string variable whisper_this in all lowercase\n",
    "whisper_this = \"Can you hear me?\"\n",
    "print(whisper_this.lower())\n"
   ]
  },
  {
   "cell_type": "code",
   "execution_count": 105,
   "metadata": {},
   "outputs": [
    {
     "name": "stdout",
     "output_type": "stream",
     "text": [
      "CAN YOU HEAR ME NOW!?\n"
     ]
    }
   ],
   "source": [
    "# print the string variable yell_this in all UPPERCASE\n",
    "yell_this = \"Can you hear me Now!?\"\n",
    "print(yell_this.upper())\n"
   ]
  },
  {
   "cell_type": "code",
   "execution_count": 107,
   "metadata": {},
   "outputs": [
    {
     "name": "stdout",
     "output_type": "stream",
     "text": [
      "enter a string to reformat: HeLLo I aM nOt TyPiNG CORREctlY \n",
      "Hello i am not typing correctly \n"
     ]
    }
   ],
   "source": [
    "#format input using .upper(), .lower(), .swapcase, .capitalize()\n",
    "format_input = input('enter a string to reformat: ')\n",
    "print(format_input.upper().lower().swapcase().capitalize())\n"
   ]
  },
  {
   "cell_type": "markdown",
   "metadata": {},
   "source": [
    "### input() formatting"
   ]
  },
  {
   "cell_type": "code",
   "execution_count": 109,
   "metadata": {},
   "outputs": [
    {
     "name": "stdout",
     "output_type": "stream",
     "text": [
      "Enter your favorite color: BLUE\n",
      "blue\n"
     ]
    }
   ],
   "source": [
    "# [ ] get user input for a variable named color\n",
    "# [ ] modify color to be all lowercase and print\n",
    "color = input(\"Enter your favorite color: \")\n",
    "print(color.lower())"
   ]
  },
  {
   "cell_type": "code",
   "execution_count": 111,
   "metadata": {},
   "outputs": [
    {
     "name": "stdout",
     "output_type": "stream",
     "text": [
      "Enter something to remember: REmove LaundRY\n",
      "remove laundry\n"
     ]
    }
   ],
   "source": [
    "# [ ] get user input using variable remind_me and format to all **lowercase** and print\n",
    "# [ ] test using input with mixed upper and lower cases\n",
    "remind_me = input(\"Enter something to remember: \")\n",
    "print(remind_me.lower())\n"
   ]
  },
  {
   "cell_type": "code",
   "execution_count": 113,
   "metadata": {},
   "outputs": [
    {
     "name": "stdout",
     "output_type": "stream",
     "text": [
      "Get mad: yell!\n",
      "YELL!\n"
     ]
    }
   ],
   "source": [
    "# [] get user input for the variable yell_this and format as a \"YELL\" to ALL CAPS\n",
    "yell_this = input(\"Get mad: \")\n",
    "print(yell_this.upper())"
   ]
  },
  {
   "cell_type": "code",
   "execution_count": null,
   "metadata": {
    "collapsed": true
   },
   "outputs": [],
   "source": []
  },
  {
   "cell_type": "markdown",
   "metadata": {},
   "source": [
    "## \"in\" keyword\n",
    "### boolean: short_str in long_str"
   ]
  },
  {
   "cell_type": "code",
   "execution_count": 115,
   "metadata": {},
   "outputs": [
    {
     "name": "stdout",
     "output_type": "stream",
     "text": [
      "Enter your 3 favorite animals: Cats, Dogs, Sloths\n",
      "Are cats one of your favorite animals?  True\n"
     ]
    }
   ],
   "source": [
    "# [ ] get user input for the name of some animals in the variable animals_input\n",
    "animals_input = input(\"Enter your 3 favorite animals: \")\n",
    "\n",
    "# [ ] print true or false if 'cat' is in the string variable animals_input\n",
    "print(\"Are cats one of your favorite animals? \",\"Cat\" in animals_input)\n"
   ]
  },
  {
   "cell_type": "code",
   "execution_count": 120,
   "metadata": {},
   "outputs": [
    {
     "name": "stdout",
     "output_type": "stream",
     "text": [
      "What is your favorite color? blue\n",
      "True\n"
     ]
    }
   ],
   "source": [
    "# [ ] get user input for color\n",
    "color = input(\"What is your favorite color? \")\n",
    "\n",
    "# [ ] print True or False for starts with \"b\"\n",
    "print(color.startswith(\"b\"))\n",
    "\n",
    "# [ ] print color variable value exactly as input \n",
    "#     test with input: \"Blue\", \"BLUE\", \"bLUE\"\n",
    "\n",
    "\n",
    "\n"
   ]
  },
  {
   "cell_type": "markdown",
   "metadata": {},
   "source": [
    "## Program: guess what I'm reading\n",
    "### short_str in long_str\n",
    "\n",
    "1. **[ ]** get user **`input`** for a single word describing something that can be read \n",
    " save in a variable called **can_read**  \n",
    " e.g. - \"website\", \"newspaper\", \"blog\", \"textbook\"  \n",
    " &nbsp;  \n",
    "2. **[ ]** get user **`input`** for 3 things can be read  \n",
    " save in a variable called **can_read_things**  \n",
    "&nbsp;  \n",
    "\n",
    "3. **[ ]** print **`true`** if the **can_read** string is found  \n",
    " **in** the **can_read_things** string variable\n"
   ]
  },
  {
   "cell_type": "code",
   "execution_count": 126,
   "metadata": {},
   "outputs": [
    {
     "name": "stdout",
     "output_type": "stream",
     "text": [
      "Enter a single word for something that can be read: newspaper\n",
      "Enter 3 things that can be read: newspaper, magazine, book\n",
      "item found:  True\n"
     ]
    }
   ],
   "source": [
    "# project: \"guess what I'm reading\"\n",
    "\n",
    "# 1[ ] get 1 word input for can_read variable\n",
    "can_read = input(\"Enter a single word for something that can be read: \")\n",
    "\n",
    "# 2[ ] get 3 things input for can_read_things variable\n",
    "can_read_things = input(\"Enter 3 things that can be read: \")\n",
    "\n",
    "# 3[ ] print True if can_read is in can_read_things\n",
    "print(\"item found: \",can_read in can_read_things)\n",
    "\n",
    "# [] challenge: format the output to read \"item found = True\" (or false)\n",
    "# hint: look print formatting exercises\n",
    "\n"
   ]
  },
  {
   "cell_type": "markdown",
   "metadata": {},
   "source": [
    "## Program: Allergy Check\n",
    "\n",
    "1. **[ ]** get user **`input`** for categories of food eaten in the last 24 hours  \n",
    " save in a variable called **input_test**  \n",
    "\n",
    "2. **[ ]** print **`True`** if \"dairy\" is in the **input_test** string  \n",
    "3. **[ ]** Test the code so far  \n",
    "4. **[ ]** repeat the process checking the input for \"nuts\", **challenge** add \"Seafood\" and \"chocolate\"  \n",
    "5. **[ ]** Test your code  \n",
    "  \n",
    "6. **[ ] challenge:** make your code work for input regardless of case, e.g. - print **`True`** for \"Nuts\", \"NuTs\", \"NUTS\" or \"nuts\"  \n"
   ]
  },
  {
   "cell_type": "code",
<<<<<<< HEAD
   "execution_count": 128,
   "metadata": {},
   "outputs": [
    {
     "name": "stdout",
     "output_type": "stream",
     "text": [
      "Enter categories of food eaten in the last 24 hours: dairy, pizza, chocolate, cake, rice\n",
      "Dairy allergey found:  True\n",
      "Nut allergey found:  False\n",
      "Seafood allergey found:  False\n",
      "Chocolate allergey found:  True\n"
=======
   "execution_count": 2,
   "metadata": {},
   "outputs": [
    {
     "ename": "KeyboardInterrupt",
     "evalue": "",
     "output_type": "error",
     "traceback": [
      "\u001b[0;31m---------------------------------------------------------------------------\u001b[0m",
      "\u001b[0;31mKeyboardInterrupt\u001b[0m                         Traceback (most recent call last)",
      "Cell \u001b[0;32mIn[2], line 6\u001b[0m\n\u001b[1;32m      1\u001b[0m \u001b[38;5;66;03m# Allergy check \u001b[39;00m\n\u001b[1;32m      2\u001b[0m \n\u001b[1;32m      3\u001b[0m \u001b[38;5;66;03m# 1[ ] get input for test\u001b[39;00m\n\u001b[0;32m----> 6\u001b[0m \u001b[38;5;28;01mwhile\u001b[39;00m \u001b[38;5;28;01mTrue\u001b[39;00m:\n\u001b[1;32m      7\u001b[0m     \u001b[38;5;28;01mpass\u001b[39;00m\n\u001b[1;32m      9\u001b[0m \u001b[38;5;66;03m# 2/3[ ] print True if \"dairy\" is in the input or False if not\u001b[39;00m\n\u001b[1;32m     10\u001b[0m \n\u001b[1;32m     11\u001b[0m \n\u001b[0;32m   (...)\u001b[0m\n\u001b[1;32m     15\u001b[0m \n\u001b[1;32m     16\u001b[0m \u001b[38;5;66;03m# 4+[ ] Challenge: Check if \"chocolate\" is in the input\u001b[39;00m\n",
      "\u001b[0;31mKeyboardInterrupt\u001b[0m: "
>>>>>>> 0280ac03f71ff678dc8cb52fcf128589b952c5ce
     ]
    }
   ],
   "source": [
    "# Allergy check \n",
    "\n",
<<<<<<< HEAD
    "# 1[ ] get input for test\n",
    "input_test = input(\"Enter categories of food eaten in the last 24 hours: \")\n",
=======
    "# 1[ ] get input for test (prompt user to enter something like \"nuts\" or \"dairy\" to store in variable named \"test\")\n",
    "\n",
    "\n",
>>>>>>> 0280ac03f71ff678dc8cb52fcf128589b952c5ce
    "\n",
    "# 2/3[ ] print True if \"dairy\" is in the input or False if not\n",
    "print(\"Dairy allergey found: \",\"dairy\" in input_test)\n",
    "\n",
    "# 4[ ] Check if \"nuts\" are in the input\n",
    "print(\"Nut allergey found: \",\"nuts\" in input_test) \n",
    "# 4+[ ] Challenge: Check if \"seafood\" is in the input\n",
    "print(\"Seafood allergey found: \",\"seafood\" in input_test)\n",
    "# 4+[ ] Challenge: Check if \"chocolate\" is in the input\n",
    "print(\"Chocolate allergey found: \",\"chocolate\" in input_test)\n"
   ]
  },
  {
   "cell_type": "markdown",
   "metadata": {},
   "source": [
    "[Terms of use](http://go.microsoft.com/fwlink/?LinkID=206977) &nbsp; [Privacy & cookies](https://go.microsoft.com/fwlink/?LinkId=521839) &nbsp; © 2017 Microsoft"
   ]
  }
 ],
 "metadata": {
  "anaconda-cloud": {},
  "kernelspec": {
   "display_name": "Python 3 (ipykernel)",
   "language": "python",
   "name": "python3"
  },
  "language_info": {
   "codemirror_mode": {
    "name": "ipython",
    "version": 3
   },
   "file_extension": ".py",
   "mimetype": "text/x-python",
   "name": "python",
   "nbconvert_exporter": "python",
   "pygments_lexer": "ipython3",
<<<<<<< HEAD
   "version": "3.11.5"
=======
<<<<<<< HEAD
   "version": "3.11.5"
=======
   "version": "3.11.4"
>>>>>>> 0280ac03f71ff678dc8cb52fcf128589b952c5ce
>>>>>>> b9afed7ffe50b1c01875c3eff365a8d49cc65dff
  }
 },
 "nbformat": 4,
 "nbformat_minor": 1
}
